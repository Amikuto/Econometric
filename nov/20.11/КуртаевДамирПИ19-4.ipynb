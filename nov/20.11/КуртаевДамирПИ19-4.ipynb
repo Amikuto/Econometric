{
 "cells": [
  {
   "cell_type": "code",
   "execution_count": 1,
   "metadata": {
    "collapsed": true
   },
   "outputs": [],
   "source": [
    "import numpy as np\n",
    "import pandas as pd\n",
    "import statsmodels.formula.api as sm\n",
    "import statsmodels.stats as smd\n",
    "import statsmodels.stats.api as sms\n",
    "import scipy.stats"
   ]
  },
  {
   "cell_type": "code",
   "execution_count": 7,
   "outputs": [
    {
     "data": {
      "text/plain": "          y    x1     x2     x3   x4\n0   12345.0  2769  29.67   94.2  9.6\n1   12091.9  3065  28.94  101.1  9.5\n2   12339.7  3899  28.43  111.6  9.5\n3   12450.6  3790  27.50  119.7  9.6\n4   12832.1  3963  28.07  112.0  9.6\n5   12892.1  4224  28.08  112.0  9.4\n6   13224.5  4645  27.68  115.3  9.0\n7   13449.9  4914  28.86  109.6  8.2\n8   13476.8  4830  31.88  112.6  7.2\n9   13588.9  4815  29.90  108.7  7.2\n10  13600.4  4401  31.32  110.9  6.8\n11  13768.5  5189  32.20  108.0  6.1\n12  14796.6  3434  30.36  109.8  4.2\n13  14424.2  5195  28.95  119.2  3.7\n14  14607.3  5401  29.33  123.3  3.7\n15  14688.0  4239  29.36  117.8  3.6\n16  15057.3  4558  32.45  109.2  3.6\n17  15161.0  4675  32.82   93.5  4.3\n18  15534.6  6558  32.19  102.7  5.6\n19  15544.5  6253  32.92  113.5  5.9\n20  15644.4  5410  30.92  112.0  6.6\n21  15717.8  5023  31.53  110.8  6.5",
      "text/html": "<div>\n<style scoped>\n    .dataframe tbody tr th:only-of-type {\n        vertical-align: middle;\n    }\n\n    .dataframe tbody tr th {\n        vertical-align: top;\n    }\n\n    .dataframe thead th {\n        text-align: right;\n    }\n</style>\n<table border=\"1\" class=\"dataframe\">\n  <thead>\n    <tr style=\"text-align: right;\">\n      <th></th>\n      <th>y</th>\n      <th>x1</th>\n      <th>x2</th>\n      <th>x3</th>\n      <th>x4</th>\n    </tr>\n  </thead>\n  <tbody>\n    <tr>\n      <th>0</th>\n      <td>12345.0</td>\n      <td>2769</td>\n      <td>29.67</td>\n      <td>94.2</td>\n      <td>9.6</td>\n    </tr>\n    <tr>\n      <th>1</th>\n      <td>12091.9</td>\n      <td>3065</td>\n      <td>28.94</td>\n      <td>101.1</td>\n      <td>9.5</td>\n    </tr>\n    <tr>\n      <th>2</th>\n      <td>12339.7</td>\n      <td>3899</td>\n      <td>28.43</td>\n      <td>111.6</td>\n      <td>9.5</td>\n    </tr>\n    <tr>\n      <th>3</th>\n      <td>12450.6</td>\n      <td>3790</td>\n      <td>27.50</td>\n      <td>119.7</td>\n      <td>9.6</td>\n    </tr>\n    <tr>\n      <th>4</th>\n      <td>12832.1</td>\n      <td>3963</td>\n      <td>28.07</td>\n      <td>112.0</td>\n      <td>9.6</td>\n    </tr>\n    <tr>\n      <th>5</th>\n      <td>12892.1</td>\n      <td>4224</td>\n      <td>28.08</td>\n      <td>112.0</td>\n      <td>9.4</td>\n    </tr>\n    <tr>\n      <th>6</th>\n      <td>13224.5</td>\n      <td>4645</td>\n      <td>27.68</td>\n      <td>115.3</td>\n      <td>9.0</td>\n    </tr>\n    <tr>\n      <th>7</th>\n      <td>13449.9</td>\n      <td>4914</td>\n      <td>28.86</td>\n      <td>109.6</td>\n      <td>8.2</td>\n    </tr>\n    <tr>\n      <th>8</th>\n      <td>13476.8</td>\n      <td>4830</td>\n      <td>31.88</td>\n      <td>112.6</td>\n      <td>7.2</td>\n    </tr>\n    <tr>\n      <th>9</th>\n      <td>13588.9</td>\n      <td>4815</td>\n      <td>29.90</td>\n      <td>108.7</td>\n      <td>7.2</td>\n    </tr>\n    <tr>\n      <th>10</th>\n      <td>13600.4</td>\n      <td>4401</td>\n      <td>31.32</td>\n      <td>110.9</td>\n      <td>6.8</td>\n    </tr>\n    <tr>\n      <th>11</th>\n      <td>13768.5</td>\n      <td>5189</td>\n      <td>32.20</td>\n      <td>108.0</td>\n      <td>6.1</td>\n    </tr>\n    <tr>\n      <th>12</th>\n      <td>14796.6</td>\n      <td>3434</td>\n      <td>30.36</td>\n      <td>109.8</td>\n      <td>4.2</td>\n    </tr>\n    <tr>\n      <th>13</th>\n      <td>14424.2</td>\n      <td>5195</td>\n      <td>28.95</td>\n      <td>119.2</td>\n      <td>3.7</td>\n    </tr>\n    <tr>\n      <th>14</th>\n      <td>14607.3</td>\n      <td>5401</td>\n      <td>29.33</td>\n      <td>123.3</td>\n      <td>3.7</td>\n    </tr>\n    <tr>\n      <th>15</th>\n      <td>14688.0</td>\n      <td>4239</td>\n      <td>29.36</td>\n      <td>117.8</td>\n      <td>3.6</td>\n    </tr>\n    <tr>\n      <th>16</th>\n      <td>15057.3</td>\n      <td>4558</td>\n      <td>32.45</td>\n      <td>109.2</td>\n      <td>3.6</td>\n    </tr>\n    <tr>\n      <th>17</th>\n      <td>15161.0</td>\n      <td>4675</td>\n      <td>32.82</td>\n      <td>93.5</td>\n      <td>4.3</td>\n    </tr>\n    <tr>\n      <th>18</th>\n      <td>15534.6</td>\n      <td>6558</td>\n      <td>32.19</td>\n      <td>102.7</td>\n      <td>5.6</td>\n    </tr>\n    <tr>\n      <th>19</th>\n      <td>15544.5</td>\n      <td>6253</td>\n      <td>32.92</td>\n      <td>113.5</td>\n      <td>5.9</td>\n    </tr>\n    <tr>\n      <th>20</th>\n      <td>15644.4</td>\n      <td>5410</td>\n      <td>30.92</td>\n      <td>112.0</td>\n      <td>6.6</td>\n    </tr>\n    <tr>\n      <th>21</th>\n      <td>15717.8</td>\n      <td>5023</td>\n      <td>31.53</td>\n      <td>110.8</td>\n      <td>6.5</td>\n    </tr>\n  </tbody>\n</table>\n</div>"
     },
     "execution_count": 7,
     "metadata": {},
     "output_type": "execute_result"
    }
   ],
   "source": [
    "data = pd.read_excel(\"tema7.xlsx\")\n",
    "data"
   ],
   "metadata": {
    "collapsed": false,
    "pycharm": {
     "name": "#%%\n"
    }
   }
  },
  {
   "cell_type": "code",
   "execution_count": 11,
   "outputs": [],
   "source": [
    "data_length = len(data)\n",
    "data_len_learning = round(data_length * 0.1)\n",
    "data_len_control = data_length - data_len_learning"
   ],
   "metadata": {
    "collapsed": false,
    "pycharm": {
     "name": "#%%\n"
    }
   }
  },
  {
   "cell_type": "code",
   "execution_count": 17,
   "outputs": [],
   "source": [
    "data_control = data[0: data_len_control]\n",
    "data_learning = data[data_len_control : data_length]"
   ],
   "metadata": {
    "collapsed": false,
    "pycharm": {
     "name": "#%%\n"
    }
   }
  },
  {
   "cell_type": "markdown",
   "source": [
    "# Проверяем адекватность модели"
   ],
   "metadata": {
    "collapsed": false,
    "pycharm": {
     "name": "#%% md\n"
    }
   }
  },
  {
   "cell_type": "code",
   "execution_count": 19,
   "outputs": [
    {
     "data": {
      "text/plain": "<class 'statsmodels.iolib.summary.Summary'>\n\"\"\"\n                            OLS Regression Results                            \n==============================================================================\nDep. Variable:                      y   R-squared:                       0.906\nModel:                            OLS   Adj. R-squared:                  0.881\nMethod:                 Least Squares   F-statistic:                     36.15\nDate:                Sat, 20 Nov 2021   Prob (F-statistic):           1.55e-07\nTime:                        12:57:40   Log-Likelihood:                -144.58\nNo. Observations:                  20   AIC:                             299.2\nDf Residuals:                      15   BIC:                             304.1\nDf Model:                           4                                         \nCovariance Type:            nonrobust                                         \n==============================================================================\n                 coef    std err          t      P>|t|      [0.025      0.975]\n------------------------------------------------------------------------------\nIntercept   1.498e+04   4173.954      3.589      0.003    6084.449    2.39e+04\nx1             0.4473      0.130      3.430      0.004       0.169       0.725\nx2            36.6988     89.377      0.411      0.687    -153.805     227.202\nx3           -19.1364     17.123     -1.118      0.281     -55.634      17.361\nx4          -324.5281     52.813     -6.145      0.000    -437.096    -211.960\n==============================================================================\nOmnibus:                        0.051   Durbin-Watson:                   1.815\nProb(Omnibus):                  0.975   Jarque-Bera (JB):                0.203\nSkew:                           0.100   Prob(JB):                        0.903\nKurtosis:                       2.549   Cond. No.                     2.25e+05\n==============================================================================\n\nNotes:\n[1] Standard Errors assume that the covariance matrix of the errors is correctly specified.\n[2] The condition number is large, 2.25e+05. This might indicate that there are\nstrong multicollinearity or other numerical problems.\n\"\"\"",
      "text/html": "<table class=\"simpletable\">\n<caption>OLS Regression Results</caption>\n<tr>\n  <th>Dep. Variable:</th>            <td>y</td>        <th>  R-squared:         </th> <td>   0.906</td>\n</tr>\n<tr>\n  <th>Model:</th>                   <td>OLS</td>       <th>  Adj. R-squared:    </th> <td>   0.881</td>\n</tr>\n<tr>\n  <th>Method:</th>             <td>Least Squares</td>  <th>  F-statistic:       </th> <td>   36.15</td>\n</tr>\n<tr>\n  <th>Date:</th>             <td>Sat, 20 Nov 2021</td> <th>  Prob (F-statistic):</th> <td>1.55e-07</td>\n</tr>\n<tr>\n  <th>Time:</th>                 <td>12:57:40</td>     <th>  Log-Likelihood:    </th> <td> -144.58</td>\n</tr>\n<tr>\n  <th>No. Observations:</th>      <td>    20</td>      <th>  AIC:               </th> <td>   299.2</td>\n</tr>\n<tr>\n  <th>Df Residuals:</th>          <td>    15</td>      <th>  BIC:               </th> <td>   304.1</td>\n</tr>\n<tr>\n  <th>Df Model:</th>              <td>     4</td>      <th>                     </th>     <td> </td>   \n</tr>\n<tr>\n  <th>Covariance Type:</th>      <td>nonrobust</td>    <th>                     </th>     <td> </td>   \n</tr>\n</table>\n<table class=\"simpletable\">\n<tr>\n      <td></td>         <th>coef</th>     <th>std err</th>      <th>t</th>      <th>P>|t|</th>  <th>[0.025</th>    <th>0.975]</th>  \n</tr>\n<tr>\n  <th>Intercept</th> <td> 1.498e+04</td> <td> 4173.954</td> <td>    3.589</td> <td> 0.003</td> <td> 6084.449</td> <td> 2.39e+04</td>\n</tr>\n<tr>\n  <th>x1</th>        <td>    0.4473</td> <td>    0.130</td> <td>    3.430</td> <td> 0.004</td> <td>    0.169</td> <td>    0.725</td>\n</tr>\n<tr>\n  <th>x2</th>        <td>   36.6988</td> <td>   89.377</td> <td>    0.411</td> <td> 0.687</td> <td> -153.805</td> <td>  227.202</td>\n</tr>\n<tr>\n  <th>x3</th>        <td>  -19.1364</td> <td>   17.123</td> <td>   -1.118</td> <td> 0.281</td> <td>  -55.634</td> <td>   17.361</td>\n</tr>\n<tr>\n  <th>x4</th>        <td> -324.5281</td> <td>   52.813</td> <td>   -6.145</td> <td> 0.000</td> <td> -437.096</td> <td> -211.960</td>\n</tr>\n</table>\n<table class=\"simpletable\">\n<tr>\n  <th>Omnibus:</th>       <td> 0.051</td> <th>  Durbin-Watson:     </th> <td>   1.815</td>\n</tr>\n<tr>\n  <th>Prob(Omnibus):</th> <td> 0.975</td> <th>  Jarque-Bera (JB):  </th> <td>   0.203</td>\n</tr>\n<tr>\n  <th>Skew:</th>          <td> 0.100</td> <th>  Prob(JB):          </th> <td>   0.903</td>\n</tr>\n<tr>\n  <th>Kurtosis:</th>      <td> 2.549</td> <th>  Cond. No.          </th> <td>2.25e+05</td>\n</tr>\n</table><br/><br/>Notes:<br/>[1] Standard Errors assume that the covariance matrix of the errors is correctly specified.<br/>[2] The condition number is large, 2.25e+05. This might indicate that there are<br/>strong multicollinearity or other numerical problems."
     },
     "execution_count": 19,
     "metadata": {},
     "output_type": "execute_result"
    }
   ],
   "source": [
    "model = sm.ols(formula='y ~ x1+x2+x3+x4', data=data_control)\n",
    "results = model.fit()\n",
    "s = results.summary()\n",
    "s"
   ],
   "metadata": {
    "collapsed": false,
    "pycharm": {
     "name": "#%%\n"
    }
   }
  },
  {
   "cell_type": "code",
   "execution_count": 20,
   "outputs": [
    {
     "data": {
      "text/plain": "           mean     mean_se  mean_ci_lower  mean_ci_upper  obs_ci_lower  \\\n0  14250.571960  126.652990   13980.617503   14520.526417  13385.995225   \n1  14155.262839  135.924016   13865.547656   14444.978022  13284.313696   \n\n   obs_ci_upper  \n0  15115.148696  \n1  15026.211982  ",
      "text/html": "<div>\n<style scoped>\n    .dataframe tbody tr th:only-of-type {\n        vertical-align: middle;\n    }\n\n    .dataframe tbody tr th {\n        vertical-align: top;\n    }\n\n    .dataframe thead th {\n        text-align: right;\n    }\n</style>\n<table border=\"1\" class=\"dataframe\">\n  <thead>\n    <tr style=\"text-align: right;\">\n      <th></th>\n      <th>mean</th>\n      <th>mean_se</th>\n      <th>mean_ci_lower</th>\n      <th>mean_ci_upper</th>\n      <th>obs_ci_lower</th>\n      <th>obs_ci_upper</th>\n    </tr>\n  </thead>\n  <tbody>\n    <tr>\n      <th>0</th>\n      <td>14250.571960</td>\n      <td>126.652990</td>\n      <td>13980.617503</td>\n      <td>14520.526417</td>\n      <td>13385.995225</td>\n      <td>15115.148696</td>\n    </tr>\n    <tr>\n      <th>1</th>\n      <td>14155.262839</td>\n      <td>135.924016</td>\n      <td>13865.547656</td>\n      <td>14444.978022</td>\n      <td>13284.313696</td>\n      <td>15026.211982</td>\n    </tr>\n  </tbody>\n</table>\n</div>"
     },
     "execution_count": 20,
     "metadata": {},
     "output_type": "execute_result"
    }
   ],
   "source": [
    "pred = results.get_prediction(data_learning)\n",
    "pred.summary_frame(alpha=0.05)"
   ],
   "metadata": {
    "collapsed": false,
    "pycharm": {
     "name": "#%%\n"
    }
   }
  },
  {
   "cell_type": "code",
   "execution_count": 21,
   "outputs": [
    {
     "data": {
      "text/plain": "          y    x1     x2     x3   x4\n20  15644.4  5410  30.92  112.0  6.6\n21  15717.8  5023  31.53  110.8  6.5",
      "text/html": "<div>\n<style scoped>\n    .dataframe tbody tr th:only-of-type {\n        vertical-align: middle;\n    }\n\n    .dataframe tbody tr th {\n        vertical-align: top;\n    }\n\n    .dataframe thead th {\n        text-align: right;\n    }\n</style>\n<table border=\"1\" class=\"dataframe\">\n  <thead>\n    <tr style=\"text-align: right;\">\n      <th></th>\n      <th>y</th>\n      <th>x1</th>\n      <th>x2</th>\n      <th>x3</th>\n      <th>x4</th>\n    </tr>\n  </thead>\n  <tbody>\n    <tr>\n      <th>20</th>\n      <td>15644.4</td>\n      <td>5410</td>\n      <td>30.92</td>\n      <td>112.0</td>\n      <td>6.6</td>\n    </tr>\n    <tr>\n      <th>21</th>\n      <td>15717.8</td>\n      <td>5023</td>\n      <td>31.53</td>\n      <td>110.8</td>\n      <td>6.5</td>\n    </tr>\n  </tbody>\n</table>\n</div>"
     },
     "execution_count": 21,
     "metadata": {},
     "output_type": "execute_result"
    }
   ],
   "source": [
    "data_learning"
   ],
   "metadata": {
    "collapsed": false,
    "pycharm": {
     "name": "#%%\n"
    }
   }
  },
  {
   "cell_type": "markdown",
   "source": [
    "## Корреляция"
   ],
   "metadata": {
    "collapsed": false,
    "pycharm": {
     "name": "#%% md\n"
    }
   }
  },
  {
   "cell_type": "code",
   "execution_count": 50,
   "outputs": [
    {
     "data": {
      "text/plain": "           y        x1        x2        x3        x4\ny   1.000000  0.697086  0.690711  0.052676 -0.879374\nx1  0.697086  1.000000  0.493912  0.250510 -0.466012\nx2  0.690711  0.493912  1.000000 -0.402182 -0.565025\nx3  0.052676  0.250510 -0.402182  1.000000 -0.165578\nx4 -0.879374 -0.466012 -0.565025 -0.165578  1.000000",
      "text/html": "<div>\n<style scoped>\n    .dataframe tbody tr th:only-of-type {\n        vertical-align: middle;\n    }\n\n    .dataframe tbody tr th {\n        vertical-align: top;\n    }\n\n    .dataframe thead th {\n        text-align: right;\n    }\n</style>\n<table border=\"1\" class=\"dataframe\">\n  <thead>\n    <tr style=\"text-align: right;\">\n      <th></th>\n      <th>y</th>\n      <th>x1</th>\n      <th>x2</th>\n      <th>x3</th>\n      <th>x4</th>\n    </tr>\n  </thead>\n  <tbody>\n    <tr>\n      <th>y</th>\n      <td>1.000000</td>\n      <td>0.697086</td>\n      <td>0.690711</td>\n      <td>0.052676</td>\n      <td>-0.879374</td>\n    </tr>\n    <tr>\n      <th>x1</th>\n      <td>0.697086</td>\n      <td>1.000000</td>\n      <td>0.493912</td>\n      <td>0.250510</td>\n      <td>-0.466012</td>\n    </tr>\n    <tr>\n      <th>x2</th>\n      <td>0.690711</td>\n      <td>0.493912</td>\n      <td>1.000000</td>\n      <td>-0.402182</td>\n      <td>-0.565025</td>\n    </tr>\n    <tr>\n      <th>x3</th>\n      <td>0.052676</td>\n      <td>0.250510</td>\n      <td>-0.402182</td>\n      <td>1.000000</td>\n      <td>-0.165578</td>\n    </tr>\n    <tr>\n      <th>x4</th>\n      <td>-0.879374</td>\n      <td>-0.466012</td>\n      <td>-0.565025</td>\n      <td>-0.165578</td>\n      <td>1.000000</td>\n    </tr>\n  </tbody>\n</table>\n</div>"
     },
     "execution_count": 50,
     "metadata": {},
     "output_type": "execute_result"
    }
   ],
   "source": [
    "data_control.corr()"
   ],
   "metadata": {
    "collapsed": false,
    "pycharm": {
     "name": "#%%\n"
    }
   }
  },
  {
   "cell_type": "markdown",
   "source": [
    "## Без х3"
   ],
   "metadata": {
    "collapsed": false,
    "pycharm": {
     "name": "#%% md\n"
    }
   }
  },
  {
   "cell_type": "code",
   "execution_count": 51,
   "outputs": [
    {
     "data": {
      "text/plain": "<class 'statsmodels.iolib.summary.Summary'>\n\"\"\"\n                            OLS Regression Results                            \n==============================================================================\nDep. Variable:                      y   R-squared:                       0.898\nModel:                            OLS   Adj. R-squared:                  0.879\nMethod:                 Least Squares   F-statistic:                     47.05\nDate:                Sat, 20 Nov 2021   Prob (F-statistic):           3.67e-08\nTime:                        13:22:46   Log-Likelihood:                -145.38\nNo. Observations:                  20   AIC:                             298.8\nDf Residuals:                      16   BIC:                             302.8\nDf Model:                           3                                         \nCovariance Type:            nonrobust                                         \n==============================================================================\n                 coef    std err          t      P>|t|      [0.025      0.975]\n------------------------------------------------------------------------------\nIntercept   1.086e+04   1968.134      5.517      0.000    6686.254     1.5e+04\nx1             0.3716      0.112      3.310      0.004       0.134       0.610\nx2           108.8831     62.255      1.749      0.099     -23.092     240.858\nx4          -296.9100     47.036     -6.312      0.000    -396.621    -197.199\n==============================================================================\nOmnibus:                        0.560   Durbin-Watson:                   1.680\nProb(Omnibus):                  0.756   Jarque-Bera (JB):                0.626\nSkew:                          -0.184   Prob(JB):                        0.731\nKurtosis:                       2.216   Cond. No.                     1.05e+05\n==============================================================================\n\nNotes:\n[1] Standard Errors assume that the covariance matrix of the errors is correctly specified.\n[2] The condition number is large, 1.05e+05. This might indicate that there are\nstrong multicollinearity or other numerical problems.\n\"\"\"",
      "text/html": "<table class=\"simpletable\">\n<caption>OLS Regression Results</caption>\n<tr>\n  <th>Dep. Variable:</th>            <td>y</td>        <th>  R-squared:         </th> <td>   0.898</td>\n</tr>\n<tr>\n  <th>Model:</th>                   <td>OLS</td>       <th>  Adj. R-squared:    </th> <td>   0.879</td>\n</tr>\n<tr>\n  <th>Method:</th>             <td>Least Squares</td>  <th>  F-statistic:       </th> <td>   47.05</td>\n</tr>\n<tr>\n  <th>Date:</th>             <td>Sat, 20 Nov 2021</td> <th>  Prob (F-statistic):</th> <td>3.67e-08</td>\n</tr>\n<tr>\n  <th>Time:</th>                 <td>13:22:46</td>     <th>  Log-Likelihood:    </th> <td> -145.38</td>\n</tr>\n<tr>\n  <th>No. Observations:</th>      <td>    20</td>      <th>  AIC:               </th> <td>   298.8</td>\n</tr>\n<tr>\n  <th>Df Residuals:</th>          <td>    16</td>      <th>  BIC:               </th> <td>   302.8</td>\n</tr>\n<tr>\n  <th>Df Model:</th>              <td>     3</td>      <th>                     </th>     <td> </td>   \n</tr>\n<tr>\n  <th>Covariance Type:</th>      <td>nonrobust</td>    <th>                     </th>     <td> </td>   \n</tr>\n</table>\n<table class=\"simpletable\">\n<tr>\n      <td></td>         <th>coef</th>     <th>std err</th>      <th>t</th>      <th>P>|t|</th>  <th>[0.025</th>    <th>0.975]</th>  \n</tr>\n<tr>\n  <th>Intercept</th> <td> 1.086e+04</td> <td> 1968.134</td> <td>    5.517</td> <td> 0.000</td> <td> 6686.254</td> <td>  1.5e+04</td>\n</tr>\n<tr>\n  <th>x1</th>        <td>    0.3716</td> <td>    0.112</td> <td>    3.310</td> <td> 0.004</td> <td>    0.134</td> <td>    0.610</td>\n</tr>\n<tr>\n  <th>x2</th>        <td>  108.8831</td> <td>   62.255</td> <td>    1.749</td> <td> 0.099</td> <td>  -23.092</td> <td>  240.858</td>\n</tr>\n<tr>\n  <th>x4</th>        <td> -296.9100</td> <td>   47.036</td> <td>   -6.312</td> <td> 0.000</td> <td> -396.621</td> <td> -197.199</td>\n</tr>\n</table>\n<table class=\"simpletable\">\n<tr>\n  <th>Omnibus:</th>       <td> 0.560</td> <th>  Durbin-Watson:     </th> <td>   1.680</td>\n</tr>\n<tr>\n  <th>Prob(Omnibus):</th> <td> 0.756</td> <th>  Jarque-Bera (JB):  </th> <td>   0.626</td>\n</tr>\n<tr>\n  <th>Skew:</th>          <td>-0.184</td> <th>  Prob(JB):          </th> <td>   0.731</td>\n</tr>\n<tr>\n  <th>Kurtosis:</th>      <td> 2.216</td> <th>  Cond. No.          </th> <td>1.05e+05</td>\n</tr>\n</table><br/><br/>Notes:<br/>[1] Standard Errors assume that the covariance matrix of the errors is correctly specified.<br/>[2] The condition number is large, 1.05e+05. This might indicate that there are<br/>strong multicollinearity or other numerical problems."
     },
     "execution_count": 51,
     "metadata": {},
     "output_type": "execute_result"
    }
   ],
   "source": [
    "model_without_x3 = sm.ols(formula='y ~ x1+x2+x4', data=data_control)\n",
    "results_without_x3 = model_without_x3.fit()\n",
    "s_wo_x3 = results_without_x3.summary()\n",
    "s_wo_x3"
   ],
   "metadata": {
    "collapsed": false,
    "pycharm": {
     "name": "#%%\n"
    }
   }
  },
  {
   "cell_type": "code",
   "execution_count": 52,
   "outputs": [
    {
     "data": {
      "text/plain": "           mean     mean_se  mean_ci_lower  mean_ci_upper  obs_ci_lower  \\\n0  14275.686143  125.609252   14009.406423   14541.965863  13410.459547   \n1  14228.003972  120.250711   13973.083853   14482.924092  13366.205596   \n\n   obs_ci_upper  \n0  15140.912739  \n1  15089.802348  ",
      "text/html": "<div>\n<style scoped>\n    .dataframe tbody tr th:only-of-type {\n        vertical-align: middle;\n    }\n\n    .dataframe tbody tr th {\n        vertical-align: top;\n    }\n\n    .dataframe thead th {\n        text-align: right;\n    }\n</style>\n<table border=\"1\" class=\"dataframe\">\n  <thead>\n    <tr style=\"text-align: right;\">\n      <th></th>\n      <th>mean</th>\n      <th>mean_se</th>\n      <th>mean_ci_lower</th>\n      <th>mean_ci_upper</th>\n      <th>obs_ci_lower</th>\n      <th>obs_ci_upper</th>\n    </tr>\n  </thead>\n  <tbody>\n    <tr>\n      <th>0</th>\n      <td>14275.686143</td>\n      <td>125.609252</td>\n      <td>14009.406423</td>\n      <td>14541.965863</td>\n      <td>13410.459547</td>\n      <td>15140.912739</td>\n    </tr>\n    <tr>\n      <th>1</th>\n      <td>14228.003972</td>\n      <td>120.250711</td>\n      <td>13973.083853</td>\n      <td>14482.924092</td>\n      <td>13366.205596</td>\n      <td>15089.802348</td>\n    </tr>\n  </tbody>\n</table>\n</div>"
     },
     "execution_count": 52,
     "metadata": {},
     "output_type": "execute_result"
    }
   ],
   "source": [
    "pred_without_x3 = results_without_x3.get_prediction(data_learning)\n",
    "pred_without_x3.summary_frame(alpha=0.05)"
   ],
   "metadata": {
    "collapsed": false,
    "pycharm": {
     "name": "#%%\n"
    }
   }
  },
  {
   "cell_type": "code",
   "execution_count": 53,
   "outputs": [
    {
     "data": {
      "text/plain": "          y    x1     x2     x3   x4\n20  15644.4  5410  30.92  112.0  6.6\n21  15717.8  5023  31.53  110.8  6.5",
      "text/html": "<div>\n<style scoped>\n    .dataframe tbody tr th:only-of-type {\n        vertical-align: middle;\n    }\n\n    .dataframe tbody tr th {\n        vertical-align: top;\n    }\n\n    .dataframe thead th {\n        text-align: right;\n    }\n</style>\n<table border=\"1\" class=\"dataframe\">\n  <thead>\n    <tr style=\"text-align: right;\">\n      <th></th>\n      <th>y</th>\n      <th>x1</th>\n      <th>x2</th>\n      <th>x3</th>\n      <th>x4</th>\n    </tr>\n  </thead>\n  <tbody>\n    <tr>\n      <th>20</th>\n      <td>15644.4</td>\n      <td>5410</td>\n      <td>30.92</td>\n      <td>112.0</td>\n      <td>6.6</td>\n    </tr>\n    <tr>\n      <th>21</th>\n      <td>15717.8</td>\n      <td>5023</td>\n      <td>31.53</td>\n      <td>110.8</td>\n      <td>6.5</td>\n    </tr>\n  </tbody>\n</table>\n</div>"
     },
     "execution_count": 53,
     "metadata": {},
     "output_type": "execute_result"
    }
   ],
   "source": [
    "data_learning\n"
   ],
   "metadata": {
    "collapsed": false,
    "pycharm": {
     "name": "#%%\n"
    }
   }
  },
  {
   "cell_type": "markdown",
   "source": [
    "## Без х2"
   ],
   "metadata": {
    "collapsed": false
   }
  },
  {
   "cell_type": "code",
   "execution_count": 54,
   "outputs": [
    {
     "data": {
      "text/plain": "<class 'statsmodels.iolib.summary.Summary'>\n\"\"\"\n                            OLS Regression Results                            \n==============================================================================\nDep. Variable:                      y   R-squared:                       0.879\nModel:                            OLS   Adj. R-squared:                  0.864\nMethod:                 Least Squares   F-statistic:                     61.59\nDate:                Sat, 20 Nov 2021   Prob (F-statistic):           1.63e-08\nTime:                        13:25:34   Log-Likelihood:                -147.13\nNo. Observations:                  20   AIC:                             300.3\nDf Residuals:                      17   BIC:                             303.3\nDf Model:                           2                                         \nCovariance Type:            nonrobust                                         \n==============================================================================\n                 coef    std err          t      P>|t|      [0.025      0.975]\n------------------------------------------------------------------------------\nIntercept   1.409e+04    714.113     19.734      0.000    1.26e+04    1.56e+04\nx1             0.4336      0.113      3.844      0.001       0.196       0.672\nx4          -332.7165     44.838     -7.420      0.000    -427.316    -238.117\n==============================================================================\nOmnibus:                        0.226   Durbin-Watson:                   1.444\nProb(Omnibus):                  0.893   Jarque-Bera (JB):                0.421\nSkew:                           0.043   Prob(JB):                        0.810\nKurtosis:                       2.295   Cond. No.                     3.60e+04\n==============================================================================\n\nNotes:\n[1] Standard Errors assume that the covariance matrix of the errors is correctly specified.\n[2] The condition number is large, 3.6e+04. This might indicate that there are\nstrong multicollinearity or other numerical problems.\n\"\"\"",
      "text/html": "<table class=\"simpletable\">\n<caption>OLS Regression Results</caption>\n<tr>\n  <th>Dep. Variable:</th>            <td>y</td>        <th>  R-squared:         </th> <td>   0.879</td>\n</tr>\n<tr>\n  <th>Model:</th>                   <td>OLS</td>       <th>  Adj. R-squared:    </th> <td>   0.864</td>\n</tr>\n<tr>\n  <th>Method:</th>             <td>Least Squares</td>  <th>  F-statistic:       </th> <td>   61.59</td>\n</tr>\n<tr>\n  <th>Date:</th>             <td>Sat, 20 Nov 2021</td> <th>  Prob (F-statistic):</th> <td>1.63e-08</td>\n</tr>\n<tr>\n  <th>Time:</th>                 <td>13:25:34</td>     <th>  Log-Likelihood:    </th> <td> -147.13</td>\n</tr>\n<tr>\n  <th>No. Observations:</th>      <td>    20</td>      <th>  AIC:               </th> <td>   300.3</td>\n</tr>\n<tr>\n  <th>Df Residuals:</th>          <td>    17</td>      <th>  BIC:               </th> <td>   303.3</td>\n</tr>\n<tr>\n  <th>Df Model:</th>              <td>     2</td>      <th>                     </th>     <td> </td>   \n</tr>\n<tr>\n  <th>Covariance Type:</th>      <td>nonrobust</td>    <th>                     </th>     <td> </td>   \n</tr>\n</table>\n<table class=\"simpletable\">\n<tr>\n      <td></td>         <th>coef</th>     <th>std err</th>      <th>t</th>      <th>P>|t|</th>  <th>[0.025</th>    <th>0.975]</th>  \n</tr>\n<tr>\n  <th>Intercept</th> <td> 1.409e+04</td> <td>  714.113</td> <td>   19.734</td> <td> 0.000</td> <td> 1.26e+04</td> <td> 1.56e+04</td>\n</tr>\n<tr>\n  <th>x1</th>        <td>    0.4336</td> <td>    0.113</td> <td>    3.844</td> <td> 0.001</td> <td>    0.196</td> <td>    0.672</td>\n</tr>\n<tr>\n  <th>x4</th>        <td> -332.7165</td> <td>   44.838</td> <td>   -7.420</td> <td> 0.000</td> <td> -427.316</td> <td> -238.117</td>\n</tr>\n</table>\n<table class=\"simpletable\">\n<tr>\n  <th>Omnibus:</th>       <td> 0.226</td> <th>  Durbin-Watson:     </th> <td>   1.444</td>\n</tr>\n<tr>\n  <th>Prob(Omnibus):</th> <td> 0.893</td> <th>  Jarque-Bera (JB):  </th> <td>   0.421</td>\n</tr>\n<tr>\n  <th>Skew:</th>          <td> 0.043</td> <th>  Prob(JB):          </th> <td>   0.810</td>\n</tr>\n<tr>\n  <th>Kurtosis:</th>      <td> 2.295</td> <th>  Cond. No.          </th> <td>3.60e+04</td>\n</tr>\n</table><br/><br/>Notes:<br/>[1] Standard Errors assume that the covariance matrix of the errors is correctly specified.<br/>[2] The condition number is large, 3.6e+04. This might indicate that there are<br/>strong multicollinearity or other numerical problems."
     },
     "execution_count": 54,
     "metadata": {},
     "output_type": "execute_result"
    }
   ],
   "source": [
    "model_without_x2 = sm.ols(formula='y ~ x1+x4', data=data_control)\n",
    "results_without_x2 = model_without_x2.fit()\n",
    "s_wo_x2 = results_without_x2.summary()\n",
    "s_wo_x2"
   ],
   "metadata": {
    "collapsed": false,
    "pycharm": {
     "name": "#%%\n"
    }
   }
  },
  {
   "cell_type": "code",
   "execution_count": 55,
   "outputs": [
    {
     "data": {
      "text/plain": "           mean     mean_se  mean_ci_lower  mean_ci_upper  obs_ci_lower  \\\n0  14242.075714  131.432766   13964.776816   14519.374611  13331.321865   \n1  14107.551642  104.374703   13887.340267   14327.763017  13212.525975   \n\n   obs_ci_upper  \n0  15152.829562  \n1  15002.577309  ",
      "text/html": "<div>\n<style scoped>\n    .dataframe tbody tr th:only-of-type {\n        vertical-align: middle;\n    }\n\n    .dataframe tbody tr th {\n        vertical-align: top;\n    }\n\n    .dataframe thead th {\n        text-align: right;\n    }\n</style>\n<table border=\"1\" class=\"dataframe\">\n  <thead>\n    <tr style=\"text-align: right;\">\n      <th></th>\n      <th>mean</th>\n      <th>mean_se</th>\n      <th>mean_ci_lower</th>\n      <th>mean_ci_upper</th>\n      <th>obs_ci_lower</th>\n      <th>obs_ci_upper</th>\n    </tr>\n  </thead>\n  <tbody>\n    <tr>\n      <th>0</th>\n      <td>14242.075714</td>\n      <td>131.432766</td>\n      <td>13964.776816</td>\n      <td>14519.374611</td>\n      <td>13331.321865</td>\n      <td>15152.829562</td>\n    </tr>\n    <tr>\n      <th>1</th>\n      <td>14107.551642</td>\n      <td>104.374703</td>\n      <td>13887.340267</td>\n      <td>14327.763017</td>\n      <td>13212.525975</td>\n      <td>15002.577309</td>\n    </tr>\n  </tbody>\n</table>\n</div>"
     },
     "execution_count": 55,
     "metadata": {},
     "output_type": "execute_result"
    }
   ],
   "source": [
    "pred_without_x2 = results_without_x2.get_prediction(data_learning)\n",
    "pred_without_x2.summary_frame(alpha=0.05)"
   ],
   "metadata": {
    "collapsed": false,
    "pycharm": {
     "name": "#%%\n"
    }
   }
  },
  {
   "cell_type": "code",
   "execution_count": 56,
   "outputs": [
    {
     "data": {
      "text/plain": "          y    x1     x2     x3   x4\n20  15644.4  5410  30.92  112.0  6.6\n21  15717.8  5023  31.53  110.8  6.5",
      "text/html": "<div>\n<style scoped>\n    .dataframe tbody tr th:only-of-type {\n        vertical-align: middle;\n    }\n\n    .dataframe tbody tr th {\n        vertical-align: top;\n    }\n\n    .dataframe thead th {\n        text-align: right;\n    }\n</style>\n<table border=\"1\" class=\"dataframe\">\n  <thead>\n    <tr style=\"text-align: right;\">\n      <th></th>\n      <th>y</th>\n      <th>x1</th>\n      <th>x2</th>\n      <th>x3</th>\n      <th>x4</th>\n    </tr>\n  </thead>\n  <tbody>\n    <tr>\n      <th>20</th>\n      <td>15644.4</td>\n      <td>5410</td>\n      <td>30.92</td>\n      <td>112.0</td>\n      <td>6.6</td>\n    </tr>\n    <tr>\n      <th>21</th>\n      <td>15717.8</td>\n      <td>5023</td>\n      <td>31.53</td>\n      <td>110.8</td>\n      <td>6.5</td>\n    </tr>\n  </tbody>\n</table>\n</div>"
     },
     "execution_count": 56,
     "metadata": {},
     "output_type": "execute_result"
    }
   ],
   "source": [
    "data_learning"
   ],
   "metadata": {
    "collapsed": false,
    "pycharm": {
     "name": "#%%\n"
    }
   }
  },
  {
   "cell_type": "markdown",
   "source": [
    "# Тест Чоу"
   ],
   "metadata": {
    "collapsed": false,
    "pycharm": {
     "name": "#%% md\n"
    }
   }
  },
  {
   "cell_type": "code",
   "execution_count": 30,
   "outputs": [],
   "source": [
    "data_training1 = data_control[0 : int(data_len_control/2)]\n",
    "data_training2 = data_control[int(data_len_control/2) : int(data_len_control)]"
   ],
   "metadata": {
    "collapsed": false,
    "pycharm": {
     "name": "#%%\n"
    }
   }
  },
  {
   "cell_type": "code",
   "execution_count": 40,
   "outputs": [
    {
     "name": "stderr",
     "output_type": "stream",
     "text": [
      "D:\\Programming\\Python\\Econometric\\venv\\lib\\site-packages\\scipy\\stats\\stats.py:1541: UserWarning: kurtosistest only valid for n>=20 ... continuing anyway, n=10\n",
      "  warnings.warn(\"kurtosistest only valid for n>=20 ... continuing \"\n",
      "D:\\Programming\\Python\\Econometric\\venv\\lib\\site-packages\\scipy\\stats\\stats.py:1541: UserWarning: kurtosistest only valid for n>=20 ... continuing anyway, n=10\n",
      "  warnings.warn(\"kurtosistest only valid for n>=20 ... continuing \"\n"
     ]
    }
   ],
   "source": [
    "m1 = sm.ols(formula='y~x1+x2+x3+x4', data=data_training1)\n",
    "results1 = m1.fit()\n",
    "s1 = results1.summary()\n",
    "\n",
    "m2 = sm.ols(formula='y~x1+x2+x3+x4', data=data_training2)\n",
    "results2 = m2.fit()\n",
    "s2 = results2.summary()"
   ],
   "metadata": {
    "collapsed": false,
    "pycharm": {
     "name": "#%%\n"
    }
   }
  },
  {
   "cell_type": "code",
   "execution_count": 41,
   "outputs": [],
   "source": [
    "residuals = results.resid\n",
    "RSS = np.sum((residuals**2))\n",
    "residuals1 = results1.resid\n",
    "RSS1 = np.sum((residuals1**2))\n",
    "residuals2 = results2.resid\n",
    "RSS2 = np.sum((residuals2**2))"
   ],
   "metadata": {
    "collapsed": false,
    "pycharm": {
     "name": "#%%\n"
    }
   }
  },
  {
   "cell_type": "code",
   "execution_count": 42,
   "outputs": [],
   "source": [
    "n1 = len(data_training1)\n",
    "n2 = len(data_training2)\n",
    "k = 4"
   ],
   "metadata": {
    "collapsed": false,
    "pycharm": {
     "name": "#%%\n"
    }
   }
  },
  {
   "cell_type": "code",
   "execution_count": 48,
   "outputs": [
    {
     "data": {
      "text/plain": "0.7694032344155984"
     },
     "execution_count": 48,
     "metadata": {},
     "output_type": "execute_result"
    }
   ],
   "source": [
    "chow = (RSS-(RSS1+RSS2))/(RSS1+RSS2) * (n1+n2-2*(k+1))/(k+1)\n",
    "chow"
   ],
   "metadata": {
    "collapsed": false,
    "pycharm": {
     "name": "#%%\n"
    }
   }
  },
  {
   "cell_type": "code",
   "execution_count": null,
   "outputs": [],
   "source": [
    "residuals"
   ],
   "metadata": {
    "collapsed": false,
    "pycharm": {
     "name": "#%%\n"
    }
   }
  },
  {
   "cell_type": "code",
   "execution_count": null,
   "outputs": [],
   "source": [
    "scipy.stats.jarque_bera(residuals)\n",
    "# p-value близится к 1 = принимаем Н0, остатки нормально распределены"
   ],
   "metadata": {
    "collapsed": false,
    "pycharm": {
     "name": "#%%\n"
    }
   }
  },
  {
   "cell_type": "code",
   "execution_count": null,
   "outputs": [],
   "source": [
    "twin_model = sm.ols(formula='y ~ x4', data=data_control)\n",
    "results_twin_model = twin_model.fit()\n",
    "s_twin_model = results_twin_model.summary()\n",
    "residuals_twin = results_twin_model.resid\n",
    "RSS_twin = np.sum((residuals_twin*residuals_twin))\n",
    "\n",
    "\n",
    "residuals_twin_model = results_twin_model.resid\n",
    "s_twin_model"
   ],
   "metadata": {
    "collapsed": false,
    "pycharm": {
     "name": "#%%\n"
    }
   }
  },
  {
   "cell_type": "code",
   "execution_count": null,
   "outputs": [],
   "source": [
    "# scipy.stats.wald.ppf(s_twin_model, s)"
   ],
   "metadata": {
    "collapsed": false,
    "pycharm": {
     "name": "#%%\n"
    }
   }
  },
  {
   "cell_type": "code",
   "execution_count": null,
   "outputs": [],
   "source": [
    "n = len(data_control)\n",
    "q = 3 # кол-во удаляемых факторов\n",
    "k = 4 # кол-во иксов\n",
    "m = k+1\n",
    "F = (RSS_twin-RSS)*(n-m)/q/RSS\n",
    "F"
   ],
   "metadata": {
    "collapsed": false,
    "pycharm": {
     "name": "#%%\n"
    }
   }
  },
  {
   "cell_type": "code",
   "execution_count": null,
   "outputs": [],
   "source": [
    "# F_набл > F_табл => регрессия без ограничений предпочтительнее, т.е. гипотеза Н0 отвергается\n",
    "# Гипотеза Н0 - Бетта коэфициенты модели равны нулю\n",
    "# Гипотеза Н1 - сумма квадратов Бетта коэфициентов модели больше нуля\n",
    "# Бетта коэфициенты - различающиеся коэфициенты модели (т.е. в нашем случае х1, х2, х3)\n",
    "Fstat=scipy.stats.f.ppf(0.95,q,n-m)\n",
    "Fstat"
   ],
   "metadata": {
    "collapsed": false,
    "pycharm": {
     "name": "#%%\n"
    }
   }
  },
  {
   "cell_type": "code",
   "execution_count": null,
   "outputs": [],
   "source": [
    "y_predict = results.predict()\n",
    "yp2 = y_predict**2\n",
    "yp3 = y_predict**3\n",
    "m4 = sm.ols(formula='y ~ x1+x2+x3+x4+yp2+yp3', data=data_control)\n",
    "results4 = m4.fit()\n",
    "s4 = results4.summary()\n",
    "residuals4 = results4.resid\n",
    "RSS4 = np.sum((residuals4**2))\n",
    "RSS4"
   ],
   "metadata": {
    "collapsed": false,
    "pycharm": {
     "name": "#%%\n"
    }
   }
  },
  {
   "cell_type": "code",
   "execution_count": null,
   "outputs": [],
   "source": [
    "n = len(data_control)\n",
    "q2 = 2\n",
    "k = 4\n",
    "k2 = k+2\n",
    "m2 = k2+1\n",
    "F = (RSS-RSS4)*(n-m2)/q2/RSS4\n",
    "F"
   ],
   "metadata": {
    "collapsed": false,
    "pycharm": {
     "name": "#%%\n"
    }
   }
  },
  {
   "cell_type": "code",
   "execution_count": null,
   "outputs": [],
   "source": [
    "Xi = scipy.stats.chi2.ppf(0.95, q2)"
   ],
   "metadata": {
    "collapsed": false,
    "pycharm": {
     "name": "#%%\n"
    }
   }
  },
  {
   "cell_type": "code",
   "execution_count": null,
   "outputs": [],
   "source": [],
   "metadata": {
    "collapsed": false,
    "pycharm": {
     "name": "#%%\n"
    }
   }
  }
 ],
 "metadata": {
  "kernelspec": {
   "display_name": "Python 3",
   "language": "python",
   "name": "python3"
  },
  "language_info": {
   "codemirror_mode": {
    "name": "ipython",
    "version": 2
   },
   "file_extension": ".py",
   "mimetype": "text/x-python",
   "name": "python",
   "nbconvert_exporter": "python",
   "pygments_lexer": "ipython2",
   "version": "2.7.6"
  }
 },
 "nbformat": 4,
 "nbformat_minor": 0
}