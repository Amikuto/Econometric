{
 "cells": [
  {
   "cell_type": "code",
   "execution_count": 1,
   "metadata": {
    "collapsed": true
   },
   "outputs": [],
   "source": [
    "import numpy as np\n",
    "import pandas as pd\n",
    "import statsmodels.formula.api as sm\n",
    "import statsmodels.stats as smd\n",
    "import statsmodels.stats.api as sms\n",
    "import scipy.stats"
   ]
  },
  {
   "cell_type": "code",
   "execution_count": 7,
   "outputs": [
    {
     "data": {
      "text/plain": "          y    x1     x2     x3   x4\n0   12345.0  2769  29.67   94.2  9.6\n1   12091.9  3065  28.94  101.1  9.5\n2   12339.7  3899  28.43  111.6  9.5\n3   12450.6  3790  27.50  119.7  9.6\n4   12832.1  3963  28.07  112.0  9.6\n5   12892.1  4224  28.08  112.0  9.4\n6   13224.5  4645  27.68  115.3  9.0\n7   13449.9  4914  28.86  109.6  8.2\n8   13476.8  4830  31.88  112.6  7.2\n9   13588.9  4815  29.90  108.7  7.2\n10  13600.4  4401  31.32  110.9  6.8\n11  13768.5  5189  32.20  108.0  6.1\n12  14796.6  3434  30.36  109.8  4.2\n13  14424.2  5195  28.95  119.2  3.7\n14  14607.3  5401  29.33  123.3  3.7\n15  14688.0  4239  29.36  117.8  3.6\n16  15057.3  4558  32.45  109.2  3.6\n17  15161.0  4675  32.82   93.5  4.3\n18  15534.6  6558  32.19  102.7  5.6\n19  15544.5  6253  32.92  113.5  5.9\n20  15644.4  5410  30.92  112.0  6.6\n21  15717.8  5023  31.53  110.8  6.5",
      "text/html": "<div>\n<style scoped>\n    .dataframe tbody tr th:only-of-type {\n        vertical-align: middle;\n    }\n\n    .dataframe tbody tr th {\n        vertical-align: top;\n    }\n\n    .dataframe thead th {\n        text-align: right;\n    }\n</style>\n<table border=\"1\" class=\"dataframe\">\n  <thead>\n    <tr style=\"text-align: right;\">\n      <th></th>\n      <th>y</th>\n      <th>x1</th>\n      <th>x2</th>\n      <th>x3</th>\n      <th>x4</th>\n    </tr>\n  </thead>\n  <tbody>\n    <tr>\n      <th>0</th>\n      <td>12345.0</td>\n      <td>2769</td>\n      <td>29.67</td>\n      <td>94.2</td>\n      <td>9.6</td>\n    </tr>\n    <tr>\n      <th>1</th>\n      <td>12091.9</td>\n      <td>3065</td>\n      <td>28.94</td>\n      <td>101.1</td>\n      <td>9.5</td>\n    </tr>\n    <tr>\n      <th>2</th>\n      <td>12339.7</td>\n      <td>3899</td>\n      <td>28.43</td>\n      <td>111.6</td>\n      <td>9.5</td>\n    </tr>\n    <tr>\n      <th>3</th>\n      <td>12450.6</td>\n      <td>3790</td>\n      <td>27.50</td>\n      <td>119.7</td>\n      <td>9.6</td>\n    </tr>\n    <tr>\n      <th>4</th>\n      <td>12832.1</td>\n      <td>3963</td>\n      <td>28.07</td>\n      <td>112.0</td>\n      <td>9.6</td>\n    </tr>\n    <tr>\n      <th>5</th>\n      <td>12892.1</td>\n      <td>4224</td>\n      <td>28.08</td>\n      <td>112.0</td>\n      <td>9.4</td>\n    </tr>\n    <tr>\n      <th>6</th>\n      <td>13224.5</td>\n      <td>4645</td>\n      <td>27.68</td>\n      <td>115.3</td>\n      <td>9.0</td>\n    </tr>\n    <tr>\n      <th>7</th>\n      <td>13449.9</td>\n      <td>4914</td>\n      <td>28.86</td>\n      <td>109.6</td>\n      <td>8.2</td>\n    </tr>\n    <tr>\n      <th>8</th>\n      <td>13476.8</td>\n      <td>4830</td>\n      <td>31.88</td>\n      <td>112.6</td>\n      <td>7.2</td>\n    </tr>\n    <tr>\n      <th>9</th>\n      <td>13588.9</td>\n      <td>4815</td>\n      <td>29.90</td>\n      <td>108.7</td>\n      <td>7.2</td>\n    </tr>\n    <tr>\n      <th>10</th>\n      <td>13600.4</td>\n      <td>4401</td>\n      <td>31.32</td>\n      <td>110.9</td>\n      <td>6.8</td>\n    </tr>\n    <tr>\n      <th>11</th>\n      <td>13768.5</td>\n      <td>5189</td>\n      <td>32.20</td>\n      <td>108.0</td>\n      <td>6.1</td>\n    </tr>\n    <tr>\n      <th>12</th>\n      <td>14796.6</td>\n      <td>3434</td>\n      <td>30.36</td>\n      <td>109.8</td>\n      <td>4.2</td>\n    </tr>\n    <tr>\n      <th>13</th>\n      <td>14424.2</td>\n      <td>5195</td>\n      <td>28.95</td>\n      <td>119.2</td>\n      <td>3.7</td>\n    </tr>\n    <tr>\n      <th>14</th>\n      <td>14607.3</td>\n      <td>5401</td>\n      <td>29.33</td>\n      <td>123.3</td>\n      <td>3.7</td>\n    </tr>\n    <tr>\n      <th>15</th>\n      <td>14688.0</td>\n      <td>4239</td>\n      <td>29.36</td>\n      <td>117.8</td>\n      <td>3.6</td>\n    </tr>\n    <tr>\n      <th>16</th>\n      <td>15057.3</td>\n      <td>4558</td>\n      <td>32.45</td>\n      <td>109.2</td>\n      <td>3.6</td>\n    </tr>\n    <tr>\n      <th>17</th>\n      <td>15161.0</td>\n      <td>4675</td>\n      <td>32.82</td>\n      <td>93.5</td>\n      <td>4.3</td>\n    </tr>\n    <tr>\n      <th>18</th>\n      <td>15534.6</td>\n      <td>6558</td>\n      <td>32.19</td>\n      <td>102.7</td>\n      <td>5.6</td>\n    </tr>\n    <tr>\n      <th>19</th>\n      <td>15544.5</td>\n      <td>6253</td>\n      <td>32.92</td>\n      <td>113.5</td>\n      <td>5.9</td>\n    </tr>\n    <tr>\n      <th>20</th>\n      <td>15644.4</td>\n      <td>5410</td>\n      <td>30.92</td>\n      <td>112.0</td>\n      <td>6.6</td>\n    </tr>\n    <tr>\n      <th>21</th>\n      <td>15717.8</td>\n      <td>5023</td>\n      <td>31.53</td>\n      <td>110.8</td>\n      <td>6.5</td>\n    </tr>\n  </tbody>\n</table>\n</div>"
     },
     "execution_count": 7,
     "metadata": {},
     "output_type": "execute_result"
    }
   ],
   "source": [
    "data = pd.read_excel(\"tema7.xlsx\")\n",
    "data"
   ],
   "metadata": {
    "collapsed": false,
    "pycharm": {
     "name": "#%%\n"
    }
   }
  },
  {
   "cell_type": "code",
   "execution_count": 11,
   "outputs": [],
   "source": [
    "data_length = len(data)\n",
    "data_len_learning = round(data_length * 0.1)\n",
    "data_len_control = data_length - data_len_learning"
   ],
   "metadata": {
    "collapsed": false,
    "pycharm": {
     "name": "#%%\n"
    }
   }
  },
  {
   "cell_type": "code",
   "execution_count": 17,
   "outputs": [],
   "source": [
    "data_control = data[0: data_len_control]\n",
    "data_learning = data[data_len_control : data_length]"
   ],
   "metadata": {
    "collapsed": false,
    "pycharm": {
     "name": "#%%\n"
    }
   }
  },
  {
   "cell_type": "code",
   "execution_count": 19,
   "outputs": [
    {
     "data": {
      "text/plain": "<class 'statsmodels.iolib.summary.Summary'>\n\"\"\"\n                            OLS Regression Results                            \n==============================================================================\nDep. Variable:                      y   R-squared:                       0.906\nModel:                            OLS   Adj. R-squared:                  0.881\nMethod:                 Least Squares   F-statistic:                     36.15\nDate:                Sat, 20 Nov 2021   Prob (F-statistic):           1.55e-07\nTime:                        12:57:40   Log-Likelihood:                -144.58\nNo. Observations:                  20   AIC:                             299.2\nDf Residuals:                      15   BIC:                             304.1\nDf Model:                           4                                         \nCovariance Type:            nonrobust                                         \n==============================================================================\n                 coef    std err          t      P>|t|      [0.025      0.975]\n------------------------------------------------------------------------------\nIntercept   1.498e+04   4173.954      3.589      0.003    6084.449    2.39e+04\nx1             0.4473      0.130      3.430      0.004       0.169       0.725\nx2            36.6988     89.377      0.411      0.687    -153.805     227.202\nx3           -19.1364     17.123     -1.118      0.281     -55.634      17.361\nx4          -324.5281     52.813     -6.145      0.000    -437.096    -211.960\n==============================================================================\nOmnibus:                        0.051   Durbin-Watson:                   1.815\nProb(Omnibus):                  0.975   Jarque-Bera (JB):                0.203\nSkew:                           0.100   Prob(JB):                        0.903\nKurtosis:                       2.549   Cond. No.                     2.25e+05\n==============================================================================\n\nNotes:\n[1] Standard Errors assume that the covariance matrix of the errors is correctly specified.\n[2] The condition number is large, 2.25e+05. This might indicate that there are\nstrong multicollinearity or other numerical problems.\n\"\"\"",
      "text/html": "<table class=\"simpletable\">\n<caption>OLS Regression Results</caption>\n<tr>\n  <th>Dep. Variable:</th>            <td>y</td>        <th>  R-squared:         </th> <td>   0.906</td>\n</tr>\n<tr>\n  <th>Model:</th>                   <td>OLS</td>       <th>  Adj. R-squared:    </th> <td>   0.881</td>\n</tr>\n<tr>\n  <th>Method:</th>             <td>Least Squares</td>  <th>  F-statistic:       </th> <td>   36.15</td>\n</tr>\n<tr>\n  <th>Date:</th>             <td>Sat, 20 Nov 2021</td> <th>  Prob (F-statistic):</th> <td>1.55e-07</td>\n</tr>\n<tr>\n  <th>Time:</th>                 <td>12:57:40</td>     <th>  Log-Likelihood:    </th> <td> -144.58</td>\n</tr>\n<tr>\n  <th>No. Observations:</th>      <td>    20</td>      <th>  AIC:               </th> <td>   299.2</td>\n</tr>\n<tr>\n  <th>Df Residuals:</th>          <td>    15</td>      <th>  BIC:               </th> <td>   304.1</td>\n</tr>\n<tr>\n  <th>Df Model:</th>              <td>     4</td>      <th>                     </th>     <td> </td>   \n</tr>\n<tr>\n  <th>Covariance Type:</th>      <td>nonrobust</td>    <th>                     </th>     <td> </td>   \n</tr>\n</table>\n<table class=\"simpletable\">\n<tr>\n      <td></td>         <th>coef</th>     <th>std err</th>      <th>t</th>      <th>P>|t|</th>  <th>[0.025</th>    <th>0.975]</th>  \n</tr>\n<tr>\n  <th>Intercept</th> <td> 1.498e+04</td> <td> 4173.954</td> <td>    3.589</td> <td> 0.003</td> <td> 6084.449</td> <td> 2.39e+04</td>\n</tr>\n<tr>\n  <th>x1</th>        <td>    0.4473</td> <td>    0.130</td> <td>    3.430</td> <td> 0.004</td> <td>    0.169</td> <td>    0.725</td>\n</tr>\n<tr>\n  <th>x2</th>        <td>   36.6988</td> <td>   89.377</td> <td>    0.411</td> <td> 0.687</td> <td> -153.805</td> <td>  227.202</td>\n</tr>\n<tr>\n  <th>x3</th>        <td>  -19.1364</td> <td>   17.123</td> <td>   -1.118</td> <td> 0.281</td> <td>  -55.634</td> <td>   17.361</td>\n</tr>\n<tr>\n  <th>x4</th>        <td> -324.5281</td> <td>   52.813</td> <td>   -6.145</td> <td> 0.000</td> <td> -437.096</td> <td> -211.960</td>\n</tr>\n</table>\n<table class=\"simpletable\">\n<tr>\n  <th>Omnibus:</th>       <td> 0.051</td> <th>  Durbin-Watson:     </th> <td>   1.815</td>\n</tr>\n<tr>\n  <th>Prob(Omnibus):</th> <td> 0.975</td> <th>  Jarque-Bera (JB):  </th> <td>   0.203</td>\n</tr>\n<tr>\n  <th>Skew:</th>          <td> 0.100</td> <th>  Prob(JB):          </th> <td>   0.903</td>\n</tr>\n<tr>\n  <th>Kurtosis:</th>      <td> 2.549</td> <th>  Cond. No.          </th> <td>2.25e+05</td>\n</tr>\n</table><br/><br/>Notes:<br/>[1] Standard Errors assume that the covariance matrix of the errors is correctly specified.<br/>[2] The condition number is large, 2.25e+05. This might indicate that there are<br/>strong multicollinearity or other numerical problems."
     },
     "execution_count": 19,
     "metadata": {},
     "output_type": "execute_result"
    }
   ],
   "source": [
    "model = sm.ols(formula='y ~ x1+x2+x3+x4', data=data_control)\n",
    "results = model.fit()\n",
    "s = results.summary()\n",
    "s"
   ],
   "metadata": {
    "collapsed": false,
    "pycharm": {
     "name": "#%%\n"
    }
   }
  },
  {
   "cell_type": "code",
   "execution_count": 20,
   "outputs": [
    {
     "data": {
      "text/plain": "           mean     mean_se  mean_ci_lower  mean_ci_upper  obs_ci_lower  \\\n0  14250.571960  126.652990   13980.617503   14520.526417  13385.995225   \n1  14155.262839  135.924016   13865.547656   14444.978022  13284.313696   \n\n   obs_ci_upper  \n0  15115.148696  \n1  15026.211982  ",
      "text/html": "<div>\n<style scoped>\n    .dataframe tbody tr th:only-of-type {\n        vertical-align: middle;\n    }\n\n    .dataframe tbody tr th {\n        vertical-align: top;\n    }\n\n    .dataframe thead th {\n        text-align: right;\n    }\n</style>\n<table border=\"1\" class=\"dataframe\">\n  <thead>\n    <tr style=\"text-align: right;\">\n      <th></th>\n      <th>mean</th>\n      <th>mean_se</th>\n      <th>mean_ci_lower</th>\n      <th>mean_ci_upper</th>\n      <th>obs_ci_lower</th>\n      <th>obs_ci_upper</th>\n    </tr>\n  </thead>\n  <tbody>\n    <tr>\n      <th>0</th>\n      <td>14250.571960</td>\n      <td>126.652990</td>\n      <td>13980.617503</td>\n      <td>14520.526417</td>\n      <td>13385.995225</td>\n      <td>15115.148696</td>\n    </tr>\n    <tr>\n      <th>1</th>\n      <td>14155.262839</td>\n      <td>135.924016</td>\n      <td>13865.547656</td>\n      <td>14444.978022</td>\n      <td>13284.313696</td>\n      <td>15026.211982</td>\n    </tr>\n  </tbody>\n</table>\n</div>"
     },
     "execution_count": 20,
     "metadata": {},
     "output_type": "execute_result"
    }
   ],
   "source": [
    "pred = results.get_prediction(data_learning)\n",
    "pred.summary_frame(alpha=0.05)"
   ],
   "metadata": {
    "collapsed": false,
    "pycharm": {
     "name": "#%%\n"
    }
   }
  },
  {
   "cell_type": "code",
   "execution_count": 21,
   "outputs": [
    {
     "data": {
      "text/plain": "          y    x1     x2     x3   x4\n20  15644.4  5410  30.92  112.0  6.6\n21  15717.8  5023  31.53  110.8  6.5",
      "text/html": "<div>\n<style scoped>\n    .dataframe tbody tr th:only-of-type {\n        vertical-align: middle;\n    }\n\n    .dataframe tbody tr th {\n        vertical-align: top;\n    }\n\n    .dataframe thead th {\n        text-align: right;\n    }\n</style>\n<table border=\"1\" class=\"dataframe\">\n  <thead>\n    <tr style=\"text-align: right;\">\n      <th></th>\n      <th>y</th>\n      <th>x1</th>\n      <th>x2</th>\n      <th>x3</th>\n      <th>x4</th>\n    </tr>\n  </thead>\n  <tbody>\n    <tr>\n      <th>20</th>\n      <td>15644.4</td>\n      <td>5410</td>\n      <td>30.92</td>\n      <td>112.0</td>\n      <td>6.6</td>\n    </tr>\n    <tr>\n      <th>21</th>\n      <td>15717.8</td>\n      <td>5023</td>\n      <td>31.53</td>\n      <td>110.8</td>\n      <td>6.5</td>\n    </tr>\n  </tbody>\n</table>\n</div>"
     },
     "execution_count": 21,
     "metadata": {},
     "output_type": "execute_result"
    }
   ],
   "source": [
    "data_learning"
   ],
   "metadata": {
    "collapsed": false,
    "pycharm": {
     "name": "#%%\n"
    }
   }
  },
  {
   "cell_type": "code",
   "execution_count": 30,
   "outputs": [],
   "source": [
    "data_training1 = data_control[0 : int(data_len_control/2)]\n",
    "data_training2 = data_control[int(data_len_control/2) : int(data_len_control)]"
   ],
   "metadata": {
    "collapsed": false,
    "pycharm": {
     "name": "#%%\n"
    }
   }
  },
  {
   "cell_type": "code",
   "execution_count": 40,
   "outputs": [
    {
     "name": "stderr",
     "output_type": "stream",
     "text": [
      "D:\\Programming\\Python\\Econometric\\venv\\lib\\site-packages\\scipy\\stats\\stats.py:1541: UserWarning: kurtosistest only valid for n>=20 ... continuing anyway, n=10\n",
      "  warnings.warn(\"kurtosistest only valid for n>=20 ... continuing \"\n",
      "D:\\Programming\\Python\\Econometric\\venv\\lib\\site-packages\\scipy\\stats\\stats.py:1541: UserWarning: kurtosistest only valid for n>=20 ... continuing anyway, n=10\n",
      "  warnings.warn(\"kurtosistest only valid for n>=20 ... continuing \"\n"
     ]
    }
   ],
   "source": [
    "m1 = sm.ols(formula='y~x1+x2+x3+x4', data=data_training1)\n",
    "results1 = m1.fit()\n",
    "s1 = results1.summary()\n",
    "\n",
    "m2 = sm.ols(formula='y~x1+x2+x3+x4', data=data_training2)\n",
    "results2 = m2.fit()\n",
    "s2 = results2.summary()"
   ],
   "metadata": {
    "collapsed": false,
    "pycharm": {
     "name": "#%%\n"
    }
   }
  },
  {
   "cell_type": "code",
   "execution_count": 41,
   "outputs": [],
   "source": [
    "residuals = results.resid\n",
    "RSS = np.sum((residuals**2))\n",
    "residuals1 = results1.resid\n",
    "RSS1 = np.sum((residuals1**2))\n",
    "residuals2 = results2.resid\n",
    "RSS2 = np.sum((residuals2**2))"
   ],
   "metadata": {
    "collapsed": false,
    "pycharm": {
     "name": "#%%\n"
    }
   }
  },
  {
   "cell_type": "code",
   "execution_count": 42,
   "outputs": [],
   "source": [
    "n1 = len(data_training1)\n",
    "n2 = len(data_training2)\n",
    "k = 4"
   ],
   "metadata": {
    "collapsed": false,
    "pycharm": {
     "name": "#%%\n"
    }
   }
  },
  {
   "cell_type": "code",
   "execution_count": 48,
   "outputs": [
    {
     "data": {
      "text/plain": "0.7694032344155984"
     },
     "execution_count": 48,
     "metadata": {},
     "output_type": "execute_result"
    }
   ],
   "source": [
    "chow = (RSS-(RSS1+RSS2))/(RSS1+RSS2) * (n1+n2-2*(k+1))/(k+1)\n",
    "chow"
   ],
   "metadata": {
    "collapsed": false,
    "pycharm": {
     "name": "#%%\n"
    }
   }
  },
  {
   "cell_type": "code",
   "execution_count": null,
   "outputs": [],
   "source": [],
   "metadata": {
    "collapsed": false,
    "pycharm": {
     "name": "#%%\n"
    }
   }
  }
 ],
 "metadata": {
  "kernelspec": {
   "display_name": "Python 3",
   "language": "python",
   "name": "python3"
  },
  "language_info": {
   "codemirror_mode": {
    "name": "ipython",
    "version": 2
   },
   "file_extension": ".py",
   "mimetype": "text/x-python",
   "name": "python",
   "nbconvert_exporter": "python",
   "pygments_lexer": "ipython2",
   "version": "2.7.6"
  }
 },
 "nbformat": 4,
 "nbformat_minor": 0
}