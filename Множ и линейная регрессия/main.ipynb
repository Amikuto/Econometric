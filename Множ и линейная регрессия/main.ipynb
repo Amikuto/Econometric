{
 "cells": [
  {
   "cell_type": "code",
   "execution_count": 2,
   "metadata": {
    "collapsed": true
   },
   "outputs": [],
   "source": [
    "\n",
    "import numpy as np\n",
    "import pandas as pd\n",
    "import statsmodels.api as sm"
   ]
  },
  {
   "cell_type": "code",
   "execution_count": 3,
   "outputs": [],
   "source": [
    "df = pd.read_excel('./data/data.xlsx', header=3, index_col=0)\n",
    "df = df.drop(df.iloc[:, 5:], axis=1)"
   ],
   "metadata": {
    "collapsed": false,
    "pycharm": {
     "name": "#%%\n"
    }
   }
  },
  {
   "cell_type": "code",
   "execution_count": 22,
   "outputs": [
    {
     "data": {
      "text/plain": " №\n1     12345.0\n2     12091.9\n3     12339.7\n4     12450.6\n5     12832.1\n6     12892.1\n7     13224.5\n8     13449.9\n9     13476.8\n10    13588.9\n11    13600.4\n12    13768.5\n13    14796.6\n14    14424.2\n15    14607.3\n16    14688.0\n17    15057.3\n18    15161.0\n19    15534.6\n20    15544.5\n21    15644.4\n22    15717.8\nName: Объем денежных накоплений в РФ миллиард руб. (y), dtype: float64"
     },
     "execution_count": 22,
     "metadata": {},
     "output_type": "execute_result"
    }
   ],
   "source": [
    "volume = df.iloc[:, 0]\n",
    "volume"
   ],
   "metadata": {
    "collapsed": false,
    "pycharm": {
     "name": "#%%\n"
    }
   }
  },
  {
   "cell_type": "code",
   "execution_count": 23,
   "outputs": [
    {
     "data": {
      "text/plain": "    Сводные данные о продаже наличной иностранной валюты кредитными организациями физическим лицам (x1)  \\\n №                                                                                                        \n1                                                2769                                                     \n2                                                3065                                                     \n3                                                3899                                                     \n4                                                3790                                                     \n5                                                3963                                                     \n6                                                4224                                                     \n7                                                4645                                                     \n8                                                4914                                                     \n9                                                4830                                                     \n10                                               4815                                                     \n11                                               4401                                                     \n12                                               5189                                                     \n13                                               3434                                                     \n14                                               5195                                                     \n15                                               5401                                                     \n16                                               4239                                                     \n17                                               4558                                                     \n18                                               4675                                                     \n19                                               6558                                                     \n20                                               6253                                                     \n21                                               5410                                                     \n22                                               5023                                                     \n\n    Курс рубля к доллару США (x2)  Цена нефти марки \"Юралс\" (x3)  \\\n №                                                                 \n1                           29.67                           94.2   \n2                           28.94                          101.1   \n3                           28.43                          111.6   \n4                           27.50                          119.7   \n5                           28.07                          112.0   \n6                           28.08                          112.0   \n7                           27.68                          115.3   \n8                           28.86                          109.6   \n9                           31.88                          112.6   \n10                          29.90                          108.7   \n11                          31.32                          110.9   \n12                          32.20                          108.0   \n13                          30.36                          109.8   \n14                          28.95                          119.2   \n15                          29.33                          123.3   \n16                          29.36                          117.8   \n17                          32.45                          109.2   \n18                          32.82                           93.5   \n19                          32.19                          102.7   \n20                          32.92                          113.5   \n21                          30.92                          112.0   \n22                          31.53                          110.8   \n\n    Динамика потребительских цен по группам товаров и услуг (месяц к соответствующему месяцу предыдущего года,%)  (x4)  \n №                                                                                                                      \n1                                                 9.6                                                                   \n2                                                 9.5                                                                   \n3                                                 9.5                                                                   \n4                                                 9.6                                                                   \n5                                                 9.6                                                                   \n6                                                 9.4                                                                   \n7                                                 9.0                                                                   \n8                                                 8.2                                                                   \n9                                                 7.2                                                                   \n10                                                7.2                                                                   \n11                                                6.8                                                                   \n12                                                6.1                                                                   \n13                                                4.2                                                                   \n14                                                3.7                                                                   \n15                                                3.7                                                                   \n16                                                3.6                                                                   \n17                                                3.6                                                                   \n18                                                4.3                                                                   \n19                                                5.6                                                                   \n20                                                5.9                                                                   \n21                                                6.6                                                                   \n22                                                6.5                                                                   ",
      "text/html": "<div>\n<style scoped>\n    .dataframe tbody tr th:only-of-type {\n        vertical-align: middle;\n    }\n\n    .dataframe tbody tr th {\n        vertical-align: top;\n    }\n\n    .dataframe thead th {\n        text-align: right;\n    }\n</style>\n<table border=\"1\" class=\"dataframe\">\n  <thead>\n    <tr style=\"text-align: right;\">\n      <th></th>\n      <th>Сводные данные о продаже наличной иностранной валюты кредитными организациями физическим лицам (x1)</th>\n      <th>Курс рубля к доллару США (x2)</th>\n      <th>Цена нефти марки \"Юралс\" (x3)</th>\n      <th>Динамика потребительских цен по группам товаров и услуг (месяц к соответствующему месяцу предыдущего года,%)  (x4)</th>\n    </tr>\n    <tr>\n      <th>№</th>\n      <th></th>\n      <th></th>\n      <th></th>\n      <th></th>\n    </tr>\n  </thead>\n  <tbody>\n    <tr>\n      <th>1</th>\n      <td>2769</td>\n      <td>29.67</td>\n      <td>94.2</td>\n      <td>9.6</td>\n    </tr>\n    <tr>\n      <th>2</th>\n      <td>3065</td>\n      <td>28.94</td>\n      <td>101.1</td>\n      <td>9.5</td>\n    </tr>\n    <tr>\n      <th>3</th>\n      <td>3899</td>\n      <td>28.43</td>\n      <td>111.6</td>\n      <td>9.5</td>\n    </tr>\n    <tr>\n      <th>4</th>\n      <td>3790</td>\n      <td>27.50</td>\n      <td>119.7</td>\n      <td>9.6</td>\n    </tr>\n    <tr>\n      <th>5</th>\n      <td>3963</td>\n      <td>28.07</td>\n      <td>112.0</td>\n      <td>9.6</td>\n    </tr>\n    <tr>\n      <th>6</th>\n      <td>4224</td>\n      <td>28.08</td>\n      <td>112.0</td>\n      <td>9.4</td>\n    </tr>\n    <tr>\n      <th>7</th>\n      <td>4645</td>\n      <td>27.68</td>\n      <td>115.3</td>\n      <td>9.0</td>\n    </tr>\n    <tr>\n      <th>8</th>\n      <td>4914</td>\n      <td>28.86</td>\n      <td>109.6</td>\n      <td>8.2</td>\n    </tr>\n    <tr>\n      <th>9</th>\n      <td>4830</td>\n      <td>31.88</td>\n      <td>112.6</td>\n      <td>7.2</td>\n    </tr>\n    <tr>\n      <th>10</th>\n      <td>4815</td>\n      <td>29.90</td>\n      <td>108.7</td>\n      <td>7.2</td>\n    </tr>\n    <tr>\n      <th>11</th>\n      <td>4401</td>\n      <td>31.32</td>\n      <td>110.9</td>\n      <td>6.8</td>\n    </tr>\n    <tr>\n      <th>12</th>\n      <td>5189</td>\n      <td>32.20</td>\n      <td>108.0</td>\n      <td>6.1</td>\n    </tr>\n    <tr>\n      <th>13</th>\n      <td>3434</td>\n      <td>30.36</td>\n      <td>109.8</td>\n      <td>4.2</td>\n    </tr>\n    <tr>\n      <th>14</th>\n      <td>5195</td>\n      <td>28.95</td>\n      <td>119.2</td>\n      <td>3.7</td>\n    </tr>\n    <tr>\n      <th>15</th>\n      <td>5401</td>\n      <td>29.33</td>\n      <td>123.3</td>\n      <td>3.7</td>\n    </tr>\n    <tr>\n      <th>16</th>\n      <td>4239</td>\n      <td>29.36</td>\n      <td>117.8</td>\n      <td>3.6</td>\n    </tr>\n    <tr>\n      <th>17</th>\n      <td>4558</td>\n      <td>32.45</td>\n      <td>109.2</td>\n      <td>3.6</td>\n    </tr>\n    <tr>\n      <th>18</th>\n      <td>4675</td>\n      <td>32.82</td>\n      <td>93.5</td>\n      <td>4.3</td>\n    </tr>\n    <tr>\n      <th>19</th>\n      <td>6558</td>\n      <td>32.19</td>\n      <td>102.7</td>\n      <td>5.6</td>\n    </tr>\n    <tr>\n      <th>20</th>\n      <td>6253</td>\n      <td>32.92</td>\n      <td>113.5</td>\n      <td>5.9</td>\n    </tr>\n    <tr>\n      <th>21</th>\n      <td>5410</td>\n      <td>30.92</td>\n      <td>112.0</td>\n      <td>6.6</td>\n    </tr>\n    <tr>\n      <th>22</th>\n      <td>5023</td>\n      <td>31.53</td>\n      <td>110.8</td>\n      <td>6.5</td>\n    </tr>\n  </tbody>\n</table>\n</div>"
     },
     "execution_count": 23,
     "metadata": {},
     "output_type": "execute_result"
    }
   ],
   "source": [
    "data = df.iloc[:, 1:]\n",
    "data"
   ],
   "metadata": {
    "collapsed": false,
    "pycharm": {
     "name": "#%%\n"
    }
   }
  },
  {
   "cell_type": "code",
   "execution_count": 24,
   "outputs": [
    {
     "name": "stderr",
     "output_type": "stream",
     "text": [
      "D:\\Programming\\Python\\Econometric\\venv\\lib\\site-packages\\statsmodels\\tsa\\tsatools.py:142: FutureWarning: In a future version of pandas all arguments of concat except for the argument 'objs' will be keyword-only\n",
      "  x = pd.concat(x[::order], 1)\n"
     ]
    },
    {
     "data": {
      "text/plain": "    const  \\\n №          \n1     1.0   \n2     1.0   \n3     1.0   \n4     1.0   \n5     1.0   \n6     1.0   \n7     1.0   \n8     1.0   \n9     1.0   \n10    1.0   \n11    1.0   \n12    1.0   \n13    1.0   \n14    1.0   \n15    1.0   \n16    1.0   \n17    1.0   \n18    1.0   \n19    1.0   \n20    1.0   \n21    1.0   \n22    1.0   \n\n    Сводные данные о продаже наличной иностранной валюты кредитными организациями физическим лицам (x1)  \\\n №                                                                                                        \n1                                                2769                                                     \n2                                                3065                                                     \n3                                                3899                                                     \n4                                                3790                                                     \n5                                                3963                                                     \n6                                                4224                                                     \n7                                                4645                                                     \n8                                                4914                                                     \n9                                                4830                                                     \n10                                               4815                                                     \n11                                               4401                                                     \n12                                               5189                                                     \n13                                               3434                                                     \n14                                               5195                                                     \n15                                               5401                                                     \n16                                               4239                                                     \n17                                               4558                                                     \n18                                               4675                                                     \n19                                               6558                                                     \n20                                               6253                                                     \n21                                               5410                                                     \n22                                               5023                                                     \n\n    Курс рубля к доллару США (x2)  Цена нефти марки \"Юралс\" (x3)  \\\n №                                                                 \n1                           29.67                           94.2   \n2                           28.94                          101.1   \n3                           28.43                          111.6   \n4                           27.50                          119.7   \n5                           28.07                          112.0   \n6                           28.08                          112.0   \n7                           27.68                          115.3   \n8                           28.86                          109.6   \n9                           31.88                          112.6   \n10                          29.90                          108.7   \n11                          31.32                          110.9   \n12                          32.20                          108.0   \n13                          30.36                          109.8   \n14                          28.95                          119.2   \n15                          29.33                          123.3   \n16                          29.36                          117.8   \n17                          32.45                          109.2   \n18                          32.82                           93.5   \n19                          32.19                          102.7   \n20                          32.92                          113.5   \n21                          30.92                          112.0   \n22                          31.53                          110.8   \n\n    Динамика потребительских цен по группам товаров и услуг (месяц к соответствующему месяцу предыдущего года,%)  (x4)  \n №                                                                                                                      \n1                                                 9.6                                                                   \n2                                                 9.5                                                                   \n3                                                 9.5                                                                   \n4                                                 9.6                                                                   \n5                                                 9.6                                                                   \n6                                                 9.4                                                                   \n7                                                 9.0                                                                   \n8                                                 8.2                                                                   \n9                                                 7.2                                                                   \n10                                                7.2                                                                   \n11                                                6.8                                                                   \n12                                                6.1                                                                   \n13                                                4.2                                                                   \n14                                                3.7                                                                   \n15                                                3.7                                                                   \n16                                                3.6                                                                   \n17                                                3.6                                                                   \n18                                                4.3                                                                   \n19                                                5.6                                                                   \n20                                                5.9                                                                   \n21                                                6.6                                                                   \n22                                                6.5                                                                   ",
      "text/html": "<div>\n<style scoped>\n    .dataframe tbody tr th:only-of-type {\n        vertical-align: middle;\n    }\n\n    .dataframe tbody tr th {\n        vertical-align: top;\n    }\n\n    .dataframe thead th {\n        text-align: right;\n    }\n</style>\n<table border=\"1\" class=\"dataframe\">\n  <thead>\n    <tr style=\"text-align: right;\">\n      <th></th>\n      <th>const</th>\n      <th>Сводные данные о продаже наличной иностранной валюты кредитными организациями физическим лицам (x1)</th>\n      <th>Курс рубля к доллару США (x2)</th>\n      <th>Цена нефти марки \"Юралс\" (x3)</th>\n      <th>Динамика потребительских цен по группам товаров и услуг (месяц к соответствующему месяцу предыдущего года,%)  (x4)</th>\n    </tr>\n    <tr>\n      <th>№</th>\n      <th></th>\n      <th></th>\n      <th></th>\n      <th></th>\n      <th></th>\n    </tr>\n  </thead>\n  <tbody>\n    <tr>\n      <th>1</th>\n      <td>1.0</td>\n      <td>2769</td>\n      <td>29.67</td>\n      <td>94.2</td>\n      <td>9.6</td>\n    </tr>\n    <tr>\n      <th>2</th>\n      <td>1.0</td>\n      <td>3065</td>\n      <td>28.94</td>\n      <td>101.1</td>\n      <td>9.5</td>\n    </tr>\n    <tr>\n      <th>3</th>\n      <td>1.0</td>\n      <td>3899</td>\n      <td>28.43</td>\n      <td>111.6</td>\n      <td>9.5</td>\n    </tr>\n    <tr>\n      <th>4</th>\n      <td>1.0</td>\n      <td>3790</td>\n      <td>27.50</td>\n      <td>119.7</td>\n      <td>9.6</td>\n    </tr>\n    <tr>\n      <th>5</th>\n      <td>1.0</td>\n      <td>3963</td>\n      <td>28.07</td>\n      <td>112.0</td>\n      <td>9.6</td>\n    </tr>\n    <tr>\n      <th>6</th>\n      <td>1.0</td>\n      <td>4224</td>\n      <td>28.08</td>\n      <td>112.0</td>\n      <td>9.4</td>\n    </tr>\n    <tr>\n      <th>7</th>\n      <td>1.0</td>\n      <td>4645</td>\n      <td>27.68</td>\n      <td>115.3</td>\n      <td>9.0</td>\n    </tr>\n    <tr>\n      <th>8</th>\n      <td>1.0</td>\n      <td>4914</td>\n      <td>28.86</td>\n      <td>109.6</td>\n      <td>8.2</td>\n    </tr>\n    <tr>\n      <th>9</th>\n      <td>1.0</td>\n      <td>4830</td>\n      <td>31.88</td>\n      <td>112.6</td>\n      <td>7.2</td>\n    </tr>\n    <tr>\n      <th>10</th>\n      <td>1.0</td>\n      <td>4815</td>\n      <td>29.90</td>\n      <td>108.7</td>\n      <td>7.2</td>\n    </tr>\n    <tr>\n      <th>11</th>\n      <td>1.0</td>\n      <td>4401</td>\n      <td>31.32</td>\n      <td>110.9</td>\n      <td>6.8</td>\n    </tr>\n    <tr>\n      <th>12</th>\n      <td>1.0</td>\n      <td>5189</td>\n      <td>32.20</td>\n      <td>108.0</td>\n      <td>6.1</td>\n    </tr>\n    <tr>\n      <th>13</th>\n      <td>1.0</td>\n      <td>3434</td>\n      <td>30.36</td>\n      <td>109.8</td>\n      <td>4.2</td>\n    </tr>\n    <tr>\n      <th>14</th>\n      <td>1.0</td>\n      <td>5195</td>\n      <td>28.95</td>\n      <td>119.2</td>\n      <td>3.7</td>\n    </tr>\n    <tr>\n      <th>15</th>\n      <td>1.0</td>\n      <td>5401</td>\n      <td>29.33</td>\n      <td>123.3</td>\n      <td>3.7</td>\n    </tr>\n    <tr>\n      <th>16</th>\n      <td>1.0</td>\n      <td>4239</td>\n      <td>29.36</td>\n      <td>117.8</td>\n      <td>3.6</td>\n    </tr>\n    <tr>\n      <th>17</th>\n      <td>1.0</td>\n      <td>4558</td>\n      <td>32.45</td>\n      <td>109.2</td>\n      <td>3.6</td>\n    </tr>\n    <tr>\n      <th>18</th>\n      <td>1.0</td>\n      <td>4675</td>\n      <td>32.82</td>\n      <td>93.5</td>\n      <td>4.3</td>\n    </tr>\n    <tr>\n      <th>19</th>\n      <td>1.0</td>\n      <td>6558</td>\n      <td>32.19</td>\n      <td>102.7</td>\n      <td>5.6</td>\n    </tr>\n    <tr>\n      <th>20</th>\n      <td>1.0</td>\n      <td>6253</td>\n      <td>32.92</td>\n      <td>113.5</td>\n      <td>5.9</td>\n    </tr>\n    <tr>\n      <th>21</th>\n      <td>1.0</td>\n      <td>5410</td>\n      <td>30.92</td>\n      <td>112.0</td>\n      <td>6.6</td>\n    </tr>\n    <tr>\n      <th>22</th>\n      <td>1.0</td>\n      <td>5023</td>\n      <td>31.53</td>\n      <td>110.8</td>\n      <td>6.5</td>\n    </tr>\n  </tbody>\n</table>\n</div>"
     },
     "execution_count": 24,
     "metadata": {},
     "output_type": "execute_result"
    }
   ],
   "source": [
    "data_const = sm.add_constant(data)\n",
    "data_const"
   ],
   "metadata": {
    "collapsed": false,
    "pycharm": {
     "name": "#%%\n"
    }
   }
  },
  {
   "cell_type": "code",
   "execution_count": 25,
   "outputs": [
    {
     "data": {
      "text/plain": "<statsmodels.regression.linear_model.RegressionResultsWrapper at 0x2c4a6ce4be0>"
     },
     "execution_count": 25,
     "metadata": {},
     "output_type": "execute_result"
    }
   ],
   "source": [
    "model = sm.OLS(volume, data_const).fit()\n",
    "model.summary()"
   ],
   "metadata": {
    "collapsed": false,
    "pycharm": {
     "name": "#%%\n"
    }
   }
  },
  {
   "cell_type": "code",
   "execution_count": 27,
   "outputs": [
    {
     "data": {
      "text/plain": " №\n1     12343.514986\n2     12374.592516\n3     12643.690185\n4     12389.738987\n5     12597.514120\n6     12780.357693\n7     13021.107263\n8     13562.979780\n9     14172.863264\n10    13932.807235\n11    14013.890730\n12    14722.002032\n13    14146.659321\n14    14892.235955\n15    15014.895808\n16    14519.866220\n17    15132.487787\n18    15145.389888\n19    15555.455732\n20    15350.269552\n21    14498.055974\n22    14425.724975\ndtype: float64"
     },
     "execution_count": 27,
     "metadata": {},
     "output_type": "execute_result"
    }
   ],
   "source": [
    "predictions = model.predict(data_const)\n",
    "predictions"
   ],
   "metadata": {
    "collapsed": false,
    "pycharm": {
     "name": "#%%\n"
    }
   }
  },
  {
   "cell_type": "code",
   "execution_count": 19,
   "outputs": [
    {
     "data": {
      "text/plain": "586.3207563508021"
     },
     "execution_count": 19,
     "metadata": {},
     "output_type": "execute_result"
    }
   ],
   "source": [
    "np.sqrt(model.mse_resid)"
   ],
   "metadata": {
    "collapsed": false,
    "pycharm": {
     "name": "#%%\n"
    }
   }
  },
  {
   "cell_type": "code",
   "execution_count": 20,
   "outputs": [],
   "source": [],
   "metadata": {
    "collapsed": false,
    "pycharm": {
     "name": "#%%\n"
    }
   }
  },
  {
   "cell_type": "code",
   "execution_count": null,
   "outputs": [],
   "source": [],
   "metadata": {
    "collapsed": false,
    "pycharm": {
     "name": "#%%\n"
    }
   }
  }
 ],
 "metadata": {
  "kernelspec": {
   "display_name": "Python 3",
   "language": "python",
   "name": "python3"
  },
  "language_info": {
   "codemirror_mode": {
    "name": "ipython",
    "version": 2
   },
   "file_extension": ".py",
   "mimetype": "text/x-python",
   "name": "python",
   "nbconvert_exporter": "python",
   "pygments_lexer": "ipython2",
   "version": "2.7.6"
  }
 },
 "nbformat": 4,
 "nbformat_minor": 0
}