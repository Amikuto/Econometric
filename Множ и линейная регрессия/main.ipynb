{
 "cells": [
  {
   "cell_type": "code",
   "execution_count": 44,
   "metadata": {
    "collapsed": true
   },
   "outputs": [],
   "source": [
    "\n",
    "import numpy as np\n",
    "import pandas as pd\n",
    "import statsmodels.api as smmy\n",
    "import statsmodels.stats.api as sms\n",
    "import statsmodels.formula.api as sm\n",
    "import statsmodels.stats as smd\n",
    "from statsmodels.compat import lzip"
   ]
  },
  {
   "cell_type": "code",
   "execution_count": 45,
   "outputs": [],
   "source": [
    "df = pd.read_excel('./data/data.xlsx', header=3, index_col=0)\n",
    "df = df.drop(df.iloc[:, 5:], axis=1)"
   ],
   "metadata": {
    "collapsed": false,
    "pycharm": {
     "name": "#%%\n"
    }
   }
  },
  {
   "cell_type": "code",
   "execution_count": 46,
   "outputs": [
    {
     "data": {
      "text/plain": " №\n1     12345.0\n2     12091.9\n3     12339.7\n4     12450.6\n5     12832.1\n6     12892.1\n7     13224.5\n8     13449.9\n9     13476.8\n10    13588.9\n11    13600.4\n12    13768.5\n13    14796.6\n14    14424.2\n15    14607.3\n16    14688.0\n17    15057.3\n18    15161.0\n19    15534.6\n20    15544.5\n21    15644.4\n22    15717.8\nName: Объем денежных накоплений в РФ миллиард руб. (y), dtype: float64"
     },
     "execution_count": 46,
     "metadata": {},
     "output_type": "execute_result"
    }
   ],
   "source": [
    "volume = df.iloc[:, 0]\n",
    "volume"
   ],
   "metadata": {
    "collapsed": false,
    "pycharm": {
     "name": "#%%\n"
    }
   }
  },
  {
   "cell_type": "code",
   "execution_count": 47,
   "outputs": [
    {
     "data": {
      "text/plain": "    Сводные данные о продаже наличной иностранной валюты кредитными организациями физическим лицам (x1)  \\\n №                                                                                                        \n1                                                2769                                                     \n2                                                3065                                                     \n3                                                3899                                                     \n4                                                3790                                                     \n5                                                3963                                                     \n6                                                4224                                                     \n7                                                4645                                                     \n8                                                4914                                                     \n9                                                4830                                                     \n10                                               4815                                                     \n11                                               4401                                                     \n12                                               5189                                                     \n13                                               3434                                                     \n14                                               5195                                                     \n15                                               5401                                                     \n16                                               4239                                                     \n17                                               4558                                                     \n18                                               4675                                                     \n19                                               6558                                                     \n20                                               6253                                                     \n21                                               5410                                                     \n22                                               5023                                                     \n\n    Курс рубля к доллару США (x2)  Цена нефти марки \"Юралс\" (x3)  \\\n №                                                                 \n1                           29.67                           94.2   \n2                           28.94                          101.1   \n3                           28.43                          111.6   \n4                           27.50                          119.7   \n5                           28.07                          112.0   \n6                           28.08                          112.0   \n7                           27.68                          115.3   \n8                           28.86                          109.6   \n9                           31.88                          112.6   \n10                          29.90                          108.7   \n11                          31.32                          110.9   \n12                          32.20                          108.0   \n13                          30.36                          109.8   \n14                          28.95                          119.2   \n15                          29.33                          123.3   \n16                          29.36                          117.8   \n17                          32.45                          109.2   \n18                          32.82                           93.5   \n19                          32.19                          102.7   \n20                          32.92                          113.5   \n21                          30.92                          112.0   \n22                          31.53                          110.8   \n\n    Динамика потребительских цен по группам товаров и услуг (месяц к соответствующему месяцу предыдущего года,%)  (x4)  \n №                                                                                                                      \n1                                                 9.6                                                                   \n2                                                 9.5                                                                   \n3                                                 9.5                                                                   \n4                                                 9.6                                                                   \n5                                                 9.6                                                                   \n6                                                 9.4                                                                   \n7                                                 9.0                                                                   \n8                                                 8.2                                                                   \n9                                                 7.2                                                                   \n10                                                7.2                                                                   \n11                                                6.8                                                                   \n12                                                6.1                                                                   \n13                                                4.2                                                                   \n14                                                3.7                                                                   \n15                                                3.7                                                                   \n16                                                3.6                                                                   \n17                                                3.6                                                                   \n18                                                4.3                                                                   \n19                                                5.6                                                                   \n20                                                5.9                                                                   \n21                                                6.6                                                                   \n22                                                6.5                                                                   ",
      "text/html": "<div>\n<style scoped>\n    .dataframe tbody tr th:only-of-type {\n        vertical-align: middle;\n    }\n\n    .dataframe tbody tr th {\n        vertical-align: top;\n    }\n\n    .dataframe thead th {\n        text-align: right;\n    }\n</style>\n<table border=\"1\" class=\"dataframe\">\n  <thead>\n    <tr style=\"text-align: right;\">\n      <th></th>\n      <th>Сводные данные о продаже наличной иностранной валюты кредитными организациями физическим лицам (x1)</th>\n      <th>Курс рубля к доллару США (x2)</th>\n      <th>Цена нефти марки \"Юралс\" (x3)</th>\n      <th>Динамика потребительских цен по группам товаров и услуг (месяц к соответствующему месяцу предыдущего года,%)  (x4)</th>\n    </tr>\n    <tr>\n      <th>№</th>\n      <th></th>\n      <th></th>\n      <th></th>\n      <th></th>\n    </tr>\n  </thead>\n  <tbody>\n    <tr>\n      <th>1</th>\n      <td>2769</td>\n      <td>29.67</td>\n      <td>94.2</td>\n      <td>9.6</td>\n    </tr>\n    <tr>\n      <th>2</th>\n      <td>3065</td>\n      <td>28.94</td>\n      <td>101.1</td>\n      <td>9.5</td>\n    </tr>\n    <tr>\n      <th>3</th>\n      <td>3899</td>\n      <td>28.43</td>\n      <td>111.6</td>\n      <td>9.5</td>\n    </tr>\n    <tr>\n      <th>4</th>\n      <td>3790</td>\n      <td>27.50</td>\n      <td>119.7</td>\n      <td>9.6</td>\n    </tr>\n    <tr>\n      <th>5</th>\n      <td>3963</td>\n      <td>28.07</td>\n      <td>112.0</td>\n      <td>9.6</td>\n    </tr>\n    <tr>\n      <th>6</th>\n      <td>4224</td>\n      <td>28.08</td>\n      <td>112.0</td>\n      <td>9.4</td>\n    </tr>\n    <tr>\n      <th>7</th>\n      <td>4645</td>\n      <td>27.68</td>\n      <td>115.3</td>\n      <td>9.0</td>\n    </tr>\n    <tr>\n      <th>8</th>\n      <td>4914</td>\n      <td>28.86</td>\n      <td>109.6</td>\n      <td>8.2</td>\n    </tr>\n    <tr>\n      <th>9</th>\n      <td>4830</td>\n      <td>31.88</td>\n      <td>112.6</td>\n      <td>7.2</td>\n    </tr>\n    <tr>\n      <th>10</th>\n      <td>4815</td>\n      <td>29.90</td>\n      <td>108.7</td>\n      <td>7.2</td>\n    </tr>\n    <tr>\n      <th>11</th>\n      <td>4401</td>\n      <td>31.32</td>\n      <td>110.9</td>\n      <td>6.8</td>\n    </tr>\n    <tr>\n      <th>12</th>\n      <td>5189</td>\n      <td>32.20</td>\n      <td>108.0</td>\n      <td>6.1</td>\n    </tr>\n    <tr>\n      <th>13</th>\n      <td>3434</td>\n      <td>30.36</td>\n      <td>109.8</td>\n      <td>4.2</td>\n    </tr>\n    <tr>\n      <th>14</th>\n      <td>5195</td>\n      <td>28.95</td>\n      <td>119.2</td>\n      <td>3.7</td>\n    </tr>\n    <tr>\n      <th>15</th>\n      <td>5401</td>\n      <td>29.33</td>\n      <td>123.3</td>\n      <td>3.7</td>\n    </tr>\n    <tr>\n      <th>16</th>\n      <td>4239</td>\n      <td>29.36</td>\n      <td>117.8</td>\n      <td>3.6</td>\n    </tr>\n    <tr>\n      <th>17</th>\n      <td>4558</td>\n      <td>32.45</td>\n      <td>109.2</td>\n      <td>3.6</td>\n    </tr>\n    <tr>\n      <th>18</th>\n      <td>4675</td>\n      <td>32.82</td>\n      <td>93.5</td>\n      <td>4.3</td>\n    </tr>\n    <tr>\n      <th>19</th>\n      <td>6558</td>\n      <td>32.19</td>\n      <td>102.7</td>\n      <td>5.6</td>\n    </tr>\n    <tr>\n      <th>20</th>\n      <td>6253</td>\n      <td>32.92</td>\n      <td>113.5</td>\n      <td>5.9</td>\n    </tr>\n    <tr>\n      <th>21</th>\n      <td>5410</td>\n      <td>30.92</td>\n      <td>112.0</td>\n      <td>6.6</td>\n    </tr>\n    <tr>\n      <th>22</th>\n      <td>5023</td>\n      <td>31.53</td>\n      <td>110.8</td>\n      <td>6.5</td>\n    </tr>\n  </tbody>\n</table>\n</div>"
     },
     "execution_count": 47,
     "metadata": {},
     "output_type": "execute_result"
    }
   ],
   "source": [
    "data = df.iloc[:, 1:]\n",
    "data"
   ],
   "metadata": {
    "collapsed": false,
    "pycharm": {
     "name": "#%%\n"
    }
   }
  },
  {
   "cell_type": "code",
   "execution_count": 48,
   "outputs": [
    {
     "name": "stderr",
     "output_type": "stream",
     "text": [
      "D:\\Programming\\Python\\Econometric\\venv\\lib\\site-packages\\statsmodels\\tsa\\tsatools.py:142: FutureWarning: In a future version of pandas all arguments of concat except for the argument 'objs' will be keyword-only\n",
      "  x = pd.concat(x[::order], 1)\n"
     ]
    },
    {
     "data": {
      "text/plain": "    const  \\\n №          \n1     1.0   \n2     1.0   \n3     1.0   \n4     1.0   \n5     1.0   \n6     1.0   \n7     1.0   \n8     1.0   \n9     1.0   \n10    1.0   \n11    1.0   \n12    1.0   \n13    1.0   \n14    1.0   \n15    1.0   \n16    1.0   \n17    1.0   \n18    1.0   \n19    1.0   \n20    1.0   \n21    1.0   \n22    1.0   \n\n    Сводные данные о продаже наличной иностранной валюты кредитными организациями физическим лицам (x1)  \\\n №                                                                                                        \n1                                                2769                                                     \n2                                                3065                                                     \n3                                                3899                                                     \n4                                                3790                                                     \n5                                                3963                                                     \n6                                                4224                                                     \n7                                                4645                                                     \n8                                                4914                                                     \n9                                                4830                                                     \n10                                               4815                                                     \n11                                               4401                                                     \n12                                               5189                                                     \n13                                               3434                                                     \n14                                               5195                                                     \n15                                               5401                                                     \n16                                               4239                                                     \n17                                               4558                                                     \n18                                               4675                                                     \n19                                               6558                                                     \n20                                               6253                                                     \n21                                               5410                                                     \n22                                               5023                                                     \n\n    Курс рубля к доллару США (x2)  Цена нефти марки \"Юралс\" (x3)  \\\n №                                                                 \n1                           29.67                           94.2   \n2                           28.94                          101.1   \n3                           28.43                          111.6   \n4                           27.50                          119.7   \n5                           28.07                          112.0   \n6                           28.08                          112.0   \n7                           27.68                          115.3   \n8                           28.86                          109.6   \n9                           31.88                          112.6   \n10                          29.90                          108.7   \n11                          31.32                          110.9   \n12                          32.20                          108.0   \n13                          30.36                          109.8   \n14                          28.95                          119.2   \n15                          29.33                          123.3   \n16                          29.36                          117.8   \n17                          32.45                          109.2   \n18                          32.82                           93.5   \n19                          32.19                          102.7   \n20                          32.92                          113.5   \n21                          30.92                          112.0   \n22                          31.53                          110.8   \n\n    Динамика потребительских цен по группам товаров и услуг (месяц к соответствующему месяцу предыдущего года,%)  (x4)  \n №                                                                                                                      \n1                                                 9.6                                                                   \n2                                                 9.5                                                                   \n3                                                 9.5                                                                   \n4                                                 9.6                                                                   \n5                                                 9.6                                                                   \n6                                                 9.4                                                                   \n7                                                 9.0                                                                   \n8                                                 8.2                                                                   \n9                                                 7.2                                                                   \n10                                                7.2                                                                   \n11                                                6.8                                                                   \n12                                                6.1                                                                   \n13                                                4.2                                                                   \n14                                                3.7                                                                   \n15                                                3.7                                                                   \n16                                                3.6                                                                   \n17                                                3.6                                                                   \n18                                                4.3                                                                   \n19                                                5.6                                                                   \n20                                                5.9                                                                   \n21                                                6.6                                                                   \n22                                                6.5                                                                   ",
      "text/html": "<div>\n<style scoped>\n    .dataframe tbody tr th:only-of-type {\n        vertical-align: middle;\n    }\n\n    .dataframe tbody tr th {\n        vertical-align: top;\n    }\n\n    .dataframe thead th {\n        text-align: right;\n    }\n</style>\n<table border=\"1\" class=\"dataframe\">\n  <thead>\n    <tr style=\"text-align: right;\">\n      <th></th>\n      <th>const</th>\n      <th>Сводные данные о продаже наличной иностранной валюты кредитными организациями физическим лицам (x1)</th>\n      <th>Курс рубля к доллару США (x2)</th>\n      <th>Цена нефти марки \"Юралс\" (x3)</th>\n      <th>Динамика потребительских цен по группам товаров и услуг (месяц к соответствующему месяцу предыдущего года,%)  (x4)</th>\n    </tr>\n    <tr>\n      <th>№</th>\n      <th></th>\n      <th></th>\n      <th></th>\n      <th></th>\n      <th></th>\n    </tr>\n  </thead>\n  <tbody>\n    <tr>\n      <th>1</th>\n      <td>1.0</td>\n      <td>2769</td>\n      <td>29.67</td>\n      <td>94.2</td>\n      <td>9.6</td>\n    </tr>\n    <tr>\n      <th>2</th>\n      <td>1.0</td>\n      <td>3065</td>\n      <td>28.94</td>\n      <td>101.1</td>\n      <td>9.5</td>\n    </tr>\n    <tr>\n      <th>3</th>\n      <td>1.0</td>\n      <td>3899</td>\n      <td>28.43</td>\n      <td>111.6</td>\n      <td>9.5</td>\n    </tr>\n    <tr>\n      <th>4</th>\n      <td>1.0</td>\n      <td>3790</td>\n      <td>27.50</td>\n      <td>119.7</td>\n      <td>9.6</td>\n    </tr>\n    <tr>\n      <th>5</th>\n      <td>1.0</td>\n      <td>3963</td>\n      <td>28.07</td>\n      <td>112.0</td>\n      <td>9.6</td>\n    </tr>\n    <tr>\n      <th>6</th>\n      <td>1.0</td>\n      <td>4224</td>\n      <td>28.08</td>\n      <td>112.0</td>\n      <td>9.4</td>\n    </tr>\n    <tr>\n      <th>7</th>\n      <td>1.0</td>\n      <td>4645</td>\n      <td>27.68</td>\n      <td>115.3</td>\n      <td>9.0</td>\n    </tr>\n    <tr>\n      <th>8</th>\n      <td>1.0</td>\n      <td>4914</td>\n      <td>28.86</td>\n      <td>109.6</td>\n      <td>8.2</td>\n    </tr>\n    <tr>\n      <th>9</th>\n      <td>1.0</td>\n      <td>4830</td>\n      <td>31.88</td>\n      <td>112.6</td>\n      <td>7.2</td>\n    </tr>\n    <tr>\n      <th>10</th>\n      <td>1.0</td>\n      <td>4815</td>\n      <td>29.90</td>\n      <td>108.7</td>\n      <td>7.2</td>\n    </tr>\n    <tr>\n      <th>11</th>\n      <td>1.0</td>\n      <td>4401</td>\n      <td>31.32</td>\n      <td>110.9</td>\n      <td>6.8</td>\n    </tr>\n    <tr>\n      <th>12</th>\n      <td>1.0</td>\n      <td>5189</td>\n      <td>32.20</td>\n      <td>108.0</td>\n      <td>6.1</td>\n    </tr>\n    <tr>\n      <th>13</th>\n      <td>1.0</td>\n      <td>3434</td>\n      <td>30.36</td>\n      <td>109.8</td>\n      <td>4.2</td>\n    </tr>\n    <tr>\n      <th>14</th>\n      <td>1.0</td>\n      <td>5195</td>\n      <td>28.95</td>\n      <td>119.2</td>\n      <td>3.7</td>\n    </tr>\n    <tr>\n      <th>15</th>\n      <td>1.0</td>\n      <td>5401</td>\n      <td>29.33</td>\n      <td>123.3</td>\n      <td>3.7</td>\n    </tr>\n    <tr>\n      <th>16</th>\n      <td>1.0</td>\n      <td>4239</td>\n      <td>29.36</td>\n      <td>117.8</td>\n      <td>3.6</td>\n    </tr>\n    <tr>\n      <th>17</th>\n      <td>1.0</td>\n      <td>4558</td>\n      <td>32.45</td>\n      <td>109.2</td>\n      <td>3.6</td>\n    </tr>\n    <tr>\n      <th>18</th>\n      <td>1.0</td>\n      <td>4675</td>\n      <td>32.82</td>\n      <td>93.5</td>\n      <td>4.3</td>\n    </tr>\n    <tr>\n      <th>19</th>\n      <td>1.0</td>\n      <td>6558</td>\n      <td>32.19</td>\n      <td>102.7</td>\n      <td>5.6</td>\n    </tr>\n    <tr>\n      <th>20</th>\n      <td>1.0</td>\n      <td>6253</td>\n      <td>32.92</td>\n      <td>113.5</td>\n      <td>5.9</td>\n    </tr>\n    <tr>\n      <th>21</th>\n      <td>1.0</td>\n      <td>5410</td>\n      <td>30.92</td>\n      <td>112.0</td>\n      <td>6.6</td>\n    </tr>\n    <tr>\n      <th>22</th>\n      <td>1.0</td>\n      <td>5023</td>\n      <td>31.53</td>\n      <td>110.8</td>\n      <td>6.5</td>\n    </tr>\n  </tbody>\n</table>\n</div>"
     },
     "execution_count": 48,
     "metadata": {},
     "output_type": "execute_result"
    }
   ],
   "source": [
    "data_const = smmy.add_constant(data)\n",
    "data_const"
   ],
   "metadata": {
    "collapsed": false,
    "pycharm": {
     "name": "#%%\n"
    }
   }
  },
  {
   "cell_type": "code",
   "execution_count": 49,
   "outputs": [
    {
     "data": {
      "text/plain": "<class 'statsmodels.iolib.summary.Summary'>\n\"\"\"\n                                           OLS Regression Results                                           \n============================================================================================================\nDep. Variable:     Объем денежных накоплений в РФ миллиард руб. (y)   R-squared:                       0.806\nModel:                                                          OLS   Adj. R-squared:                  0.761\nMethod:                                               Least Squares   F-statistic:                     17.70\nDate:                                              Fri, 01 Oct 2021   Prob (F-statistic):           6.83e-06\nTime:                                                      21:58:40   Log-Likelihood:                -168.61\nNo. Observations:                                                22   AIC:                             347.2\nDf Residuals:                                                    17   BIC:                             352.7\nDf Model:                                                         4                                         \nCovariance Type:                                          nonrobust                                         \n======================================================================================================================================================================================\n                                                                                                                         coef    std err          t      P>|t|      [0.025      0.975]\n--------------------------------------------------------------------------------------------------------------------------------------------------------------------------------------\nconst                                                                                                                1.04e+04   6169.698      1.686      0.110   -2616.991    2.34e+04\nСводные данные о продаже наличной иностранной валюты кредитными организациями физическим лицам (x1)                    0.4838      0.196      2.463      0.025       0.069       0.898\nКурс рубля к доллару США (x2)                                                                                        130.3151    132.126      0.986      0.338    -148.446     409.076\nЦена нефти марки \"Юралс\" (x3)                                                                                         -6.4678     25.698     -0.252      0.804     -60.686      47.750\nДинамика потребительских цен по группам товаров и услуг (месяц к соответствующему месяцу предыдущего года,%)  (x4)  -276.3727     78.946     -3.501      0.003    -442.935    -109.810\n==============================================================================\nOmnibus:                        5.043   Durbin-Watson:                   1.083\nProb(Omnibus):                  0.080   Jarque-Bera (JB):                2.978\nSkew:                           0.808   Prob(JB):                        0.226\nKurtosis:                       3.797   Cond. No.                     2.32e+05\n==============================================================================\n\nNotes:\n[1] Standard Errors assume that the covariance matrix of the errors is correctly specified.\n[2] The condition number is large, 2.32e+05. This might indicate that there are\nstrong multicollinearity or other numerical problems.\n\"\"\"",
      "text/html": "<table class=\"simpletable\">\n<caption>OLS Regression Results</caption>\n<tr>\n  <th>Dep. Variable:</th>    <td>Объем денежных накоплений в РФ миллиард руб. (y)</td> <th>  R-squared:         </th> <td>   0.806</td>\n</tr>\n<tr>\n  <th>Model:</th>                                   <td>OLS</td>                       <th>  Adj. R-squared:    </th> <td>   0.761</td>\n</tr>\n<tr>\n  <th>Method:</th>                             <td>Least Squares</td>                  <th>  F-statistic:       </th> <td>   17.70</td>\n</tr>\n<tr>\n  <th>Date:</th>                             <td>Fri, 01 Oct 2021</td>                 <th>  Prob (F-statistic):</th> <td>6.83e-06</td>\n</tr>\n<tr>\n  <th>Time:</th>                                 <td>21:58:40</td>                     <th>  Log-Likelihood:    </th> <td> -168.61</td>\n</tr>\n<tr>\n  <th>No. Observations:</th>                      <td>    22</td>                      <th>  AIC:               </th> <td>   347.2</td>\n</tr>\n<tr>\n  <th>Df Residuals:</th>                          <td>    17</td>                      <th>  BIC:               </th> <td>   352.7</td>\n</tr>\n<tr>\n  <th>Df Model:</th>                              <td>     4</td>                      <th>                     </th>     <td> </td>   \n</tr>\n<tr>\n  <th>Covariance Type:</th>                      <td>nonrobust</td>                    <th>                     </th>     <td> </td>   \n</tr>\n</table>\n<table class=\"simpletable\">\n<tr>\n                                                           <td></td>                                                             <th>coef</th>     <th>std err</th>      <th>t</th>      <th>P>|t|</th>  <th>[0.025</th>    <th>0.975]</th>  \n</tr>\n<tr>\n  <th>const</th>                                                                                                              <td>  1.04e+04</td> <td> 6169.698</td> <td>    1.686</td> <td> 0.110</td> <td>-2616.991</td> <td> 2.34e+04</td>\n</tr>\n<tr>\n  <th>Сводные данные о продаже наличной иностранной валюты кредитными организациями физическим лицам (x1)</th>                <td>    0.4838</td> <td>    0.196</td> <td>    2.463</td> <td> 0.025</td> <td>    0.069</td> <td>    0.898</td>\n</tr>\n<tr>\n  <th>Курс рубля к доллару США (x2)</th>                                                                                      <td>  130.3151</td> <td>  132.126</td> <td>    0.986</td> <td> 0.338</td> <td> -148.446</td> <td>  409.076</td>\n</tr>\n<tr>\n  <th>Цена нефти марки \"Юралс\" (x3)</th>                                                                                      <td>   -6.4678</td> <td>   25.698</td> <td>   -0.252</td> <td> 0.804</td> <td>  -60.686</td> <td>   47.750</td>\n</tr>\n<tr>\n  <th>Динамика потребительских цен по группам товаров и услуг (месяц к соответствующему месяцу предыдущего года,%)  (x4)</th> <td> -276.3727</td> <td>   78.946</td> <td>   -3.501</td> <td> 0.003</td> <td> -442.935</td> <td> -109.810</td>\n</tr>\n</table>\n<table class=\"simpletable\">\n<tr>\n  <th>Omnibus:</th>       <td> 5.043</td> <th>  Durbin-Watson:     </th> <td>   1.083</td>\n</tr>\n<tr>\n  <th>Prob(Omnibus):</th> <td> 0.080</td> <th>  Jarque-Bera (JB):  </th> <td>   2.978</td>\n</tr>\n<tr>\n  <th>Skew:</th>          <td> 0.808</td> <th>  Prob(JB):          </th> <td>   0.226</td>\n</tr>\n<tr>\n  <th>Kurtosis:</th>      <td> 3.797</td> <th>  Cond. No.          </th> <td>2.32e+05</td>\n</tr>\n</table><br/><br/>Notes:<br/>[1] Standard Errors assume that the covariance matrix of the errors is correctly specified.<br/>[2] The condition number is large, 2.32e+05. This might indicate that there are<br/>strong multicollinearity or other numerical problems."
     },
     "execution_count": 49,
     "metadata": {},
     "output_type": "execute_result"
    }
   ],
   "source": [
    "model = smmy.OLS(volume, data_const)\n",
    "results = model.fit()\n",
    "results.summary()"
   ],
   "metadata": {
    "collapsed": false,
    "pycharm": {
     "name": "#%%\n"
    }
   }
  },
  {
   "cell_type": "code",
   "execution_count": 50,
   "outputs": [
    {
     "data": {
      "text/plain": " №\n1     12343.514986\n2     12374.592516\n3     12643.690185\n4     12389.738987\n5     12597.514120\n6     12780.357693\n7     13021.107263\n8     13562.979780\n9     14172.863264\n10    13932.807235\n11    14013.890730\n12    14722.002032\n13    14146.659321\n14    14892.235955\n15    15014.895808\n16    14519.866220\n17    15132.487787\n18    15145.389888\n19    15555.455732\n20    15350.269552\n21    14498.055974\n22    14425.724975\ndtype: float64"
     },
     "execution_count": 50,
     "metadata": {},
     "output_type": "execute_result"
    }
   ],
   "source": [
    "predictions = results.predict(data_const)\n",
    "predictions"
   ],
   "metadata": {
    "collapsed": false,
    "pycharm": {
     "name": "#%%\n"
    }
   }
  },
  {
   "cell_type": "code",
   "execution_count": 51,
   "outputs": [],
   "source": [
    "# np.sqrt(model.mse_resid)"
   ],
   "metadata": {
    "collapsed": false,
    "pycharm": {
     "name": "#%%\n"
    }
   }
  },
  {
   "cell_type": "code",
   "execution_count": 52,
   "outputs": [],
   "source": [
    "# m = sm.ols(formula='S ~ Ydf', data=df)\n",
    "# m"
   ],
   "metadata": {
    "collapsed": false,
    "pycharm": {
     "name": "#%%\n"
    }
   }
  },
  {
   "cell_type": "code",
   "execution_count": 53,
   "outputs": [],
   "source": [
    "residuals = results.resid"
   ],
   "metadata": {
    "collapsed": false,
    "pycharm": {
     "name": "#%%\n"
    }
   }
  },
  {
   "cell_type": "code",
   "execution_count": 54,
   "outputs": [
    {
     "data": {
      "text/plain": "1.0826783675853529"
     },
     "execution_count": 54,
     "metadata": {},
     "output_type": "execute_result"
    }
   ],
   "source": [
    "#DWtest\n",
    "dw = smd.stattools.durbin_watson(residuals)\n",
    "dw"
   ],
   "metadata": {
    "collapsed": false,
    "pycharm": {
     "name": "#%%\n"
    }
   }
  },
  {
   "cell_type": "code",
   "execution_count": 55,
   "outputs": [
    {
     "name": "stderr",
     "output_type": "stream",
     "text": [
      "D:\\Programming\\Python\\Econometric\\venv\\lib\\site-packages\\statsmodels\\stats\\diagnostic.py:826: FutureWarning: The default value of nlags is changing.  After 0.12, this value will become min(10, nobs//5). Directly setnlags or period to silence this warning.\n",
      "  warnings.warn(\"The default value of nlags is changing.  After 0.12, \"\n"
     ]
    },
    {
     "data": {
      "text/plain": "(8.185104207286798, 0.4156007945587185, 0.666544458341206, 0.7107049808005259)"
     },
     "execution_count": 55,
     "metadata": {},
     "output_type": "execute_result"
    }
   ],
   "source": [
    "#BGtest\n",
    "smd.diagnostic.acorr_breusch_godfrey(results)"
   ],
   "metadata": {
    "collapsed": false,
    "pycharm": {
     "name": "#%%\n"
    }
   }
  },
  {
   "cell_type": "code",
   "execution_count": 56,
   "outputs": [
    {
     "data": {
      "text/plain": "(12.064789481111646, 0.003985192273289773, 'increasing')"
     },
     "execution_count": 56,
     "metadata": {},
     "output_type": "execute_result"
    }
   ],
   "source": [
    "#GQtest\n",
    "gq = sms.het_goldfeldquandt(residuals,results.model.exog)\n",
    "gq"
   ],
   "metadata": {
    "collapsed": false,
    "pycharm": {
     "name": "#%%\n"
    }
   }
  },
  {
   "cell_type": "code",
   "execution_count": 57,
   "outputs": [
    {
     "data": {
      "text/plain": "[('BP', 4.349947045310471), ('p-value', 0.36071243044336615)]"
     },
     "execution_count": 57,
     "metadata": {},
     "output_type": "execute_result"
    }
   ],
   "source": [
    "#BPtest\n",
    "name=['BP','p-value']\n",
    "bp=sms.het_breuschpagan(residuals,results.model.exog)\n",
    "lzip(name,bp)"
   ],
   "metadata": {
    "collapsed": false,
    "pycharm": {
     "name": "#%%\n"
    }
   }
  },
  {
   "cell_type": "code",
   "execution_count": 58,
   "outputs": [
    {
     "data": {
      "text/plain": "[('WT', 15.049318977211751), ('p-value', 0.3747916286655691)]"
     },
     "execution_count": 58,
     "metadata": {},
     "output_type": "execute_result"
    }
   ],
   "source": [
    "#White_test\n",
    "name=['WT','p-value']\n",
    "wt=sms.het_white(residuals,results.model.exog)\n",
    "lzip(name,wt)"
   ],
   "metadata": {
    "collapsed": false,
    "pycharm": {
     "name": "#%%\n"
    }
   }
  },
  {
   "cell_type": "code",
   "execution_count": 59,
   "outputs": [
    {
     "data": {
      "text/plain": "array([[ 4.42043696e+07,  4.29619101e+02, -9.89688378e+05,\n        -1.24626777e+05, -4.54252382e+05],\n       [ 4.29619101e+02,  2.76061969e-02, -1.26356042e+01,\n        -1.65214932e+00,  1.62610075e-01],\n       [-9.89688378e+05, -1.26356042e+01,  2.28869356e+04,\n         2.73715523e+03,  9.81389140e+03],\n       [-1.24626777e+05, -1.65214932e+00,  2.73715523e+03,\n         4.03241541e+02,  1.02302105e+03],\n       [-4.54252382e+05,  1.62610075e-01,  9.81389140e+03,\n         1.02302105e+03,  6.95617787e+03]])"
     },
     "execution_count": 59,
     "metadata": {},
     "output_type": "execute_result"
    }
   ],
   "source": [
    "#HC\n",
    "results.cov_HC3"
   ],
   "metadata": {
    "collapsed": false,
    "pycharm": {
     "name": "#%%\n"
    }
   }
  },
  {
   "cell_type": "code",
   "execution_count": 60,
   "outputs": [
    {
     "data": {
      "text/plain": "array([[ 4.56271457e+07,  1.19502473e+02, -1.00255190e+06,\n        -1.22267811e+05, -4.86988784e+05],\n       [ 1.19502473e+02,  2.01909042e-02, -5.63541897e+00,\n        -3.26284914e-01, -3.68608033e-01],\n       [-1.00255190e+06, -5.63541897e+00,  2.26757158e+04,\n         2.62638290e+03,  1.06648611e+04],\n       [-1.22267811e+05, -3.26284914e-01,  2.62638290e+03,\n         3.49538163e+02,  1.23966636e+03],\n       [-4.86988784e+05, -3.68608033e-01,  1.06648611e+04,\n         1.23966636e+03,  5.83059052e+03]])"
     },
     "execution_count": 60,
     "metadata": {},
     "output_type": "execute_result"
    }
   ],
   "source": [
    "#HAC\n",
    "smd.sandwich_covariance.cov_hac(results)"
   ],
   "metadata": {
    "collapsed": false,
    "pycharm": {
     "name": "#%%\n"
    }
   }
  },
  {
   "cell_type": "code",
   "execution_count": 61,
   "outputs": [
    {
     "ename": "AttributeError",
     "evalue": "'DataFrame' object has no attribute 'Yd'",
     "output_type": "error",
     "traceback": [
      "\u001B[1;31m---------------------------------------------------------------------------\u001B[0m",
      "\u001B[1;31mAttributeError\u001B[0m                            Traceback (most recent call last)",
      "\u001B[1;32m~\\AppData\\Local\\Temp/ipykernel_10448/3076021859.py\u001B[0m in \u001B[0;36m<module>\u001B[1;34m\u001B[0m\n\u001B[0;32m      1\u001B[0m \u001B[1;31m#ДВМНК\u001B[0m\u001B[1;33m\u001B[0m\u001B[1;33m\u001B[0m\u001B[1;33m\u001B[0m\u001B[0m\n\u001B[1;32m----> 2\u001B[1;33m \u001B[0mYd2\u001B[0m\u001B[1;33m=\u001B[0m\u001B[1;36m1\u001B[0m\u001B[1;33m/\u001B[0m\u001B[0mdf\u001B[0m\u001B[1;33m.\u001B[0m\u001B[0mYd\u001B[0m\u001B[1;33m\u001B[0m\u001B[1;33m\u001B[0m\u001B[0m\n\u001B[0m\u001B[0;32m      3\u001B[0m \u001B[0mYd2\u001B[0m\u001B[1;33m\u001B[0m\u001B[1;33m\u001B[0m\u001B[0m\n\u001B[0;32m      4\u001B[0m \u001B[0mS2\u001B[0m\u001B[1;33m=\u001B[0m\u001B[0mdf\u001B[0m\u001B[1;33m.\u001B[0m\u001B[0mS\u001B[0m\u001B[1;33m/\u001B[0m\u001B[0mdf\u001B[0m\u001B[1;33m.\u001B[0m\u001B[0mYd\u001B[0m\u001B[1;33m\u001B[0m\u001B[1;33m\u001B[0m\u001B[0m\n\u001B[0;32m      5\u001B[0m \u001B[0mS2\u001B[0m\u001B[1;33m\u001B[0m\u001B[1;33m\u001B[0m\u001B[0m\n",
      "\u001B[1;32mD:\\Programming\\Python\\Econometric\\venv\\lib\\site-packages\\pandas\\core\\generic.py\u001B[0m in \u001B[0;36m__getattr__\u001B[1;34m(self, name)\u001B[0m\n\u001B[0;32m   5485\u001B[0m         ):\n\u001B[0;32m   5486\u001B[0m             \u001B[1;32mreturn\u001B[0m \u001B[0mself\u001B[0m\u001B[1;33m[\u001B[0m\u001B[0mname\u001B[0m\u001B[1;33m]\u001B[0m\u001B[1;33m\u001B[0m\u001B[1;33m\u001B[0m\u001B[0m\n\u001B[1;32m-> 5487\u001B[1;33m         \u001B[1;32mreturn\u001B[0m \u001B[0mobject\u001B[0m\u001B[1;33m.\u001B[0m\u001B[0m__getattribute__\u001B[0m\u001B[1;33m(\u001B[0m\u001B[0mself\u001B[0m\u001B[1;33m,\u001B[0m \u001B[0mname\u001B[0m\u001B[1;33m)\u001B[0m\u001B[1;33m\u001B[0m\u001B[1;33m\u001B[0m\u001B[0m\n\u001B[0m\u001B[0;32m   5488\u001B[0m \u001B[1;33m\u001B[0m\u001B[0m\n\u001B[0;32m   5489\u001B[0m     \u001B[1;32mdef\u001B[0m \u001B[0m__setattr__\u001B[0m\u001B[1;33m(\u001B[0m\u001B[0mself\u001B[0m\u001B[1;33m,\u001B[0m \u001B[0mname\u001B[0m\u001B[1;33m:\u001B[0m \u001B[0mstr\u001B[0m\u001B[1;33m,\u001B[0m \u001B[0mvalue\u001B[0m\u001B[1;33m)\u001B[0m \u001B[1;33m->\u001B[0m \u001B[1;32mNone\u001B[0m\u001B[1;33m:\u001B[0m\u001B[1;33m\u001B[0m\u001B[1;33m\u001B[0m\u001B[0m\n",
      "\u001B[1;31mAttributeError\u001B[0m: 'DataFrame' object has no attribute 'Yd'"
     ]
    }
   ],
   "source": [
    "#ДВМНК\n",
    "Yd2=1/df.Yd\n",
    "Yd2\n",
    "S2=df.S/df.Yd\n",
    "S2\n",
    "import statsmodels.api as st\n",
    "#добавим в наш массив экзогенной переменной Yd столбец х0, который дает нам константу в модели\n",
    "Yd3 = st.add_constant(Yd2)\n",
    "m2 = st.OLS(S2, Yd3)\n",
    "results2 = m2.fit()\n",
    "s2 = results2.summary()\n",
    "s2"
   ],
   "metadata": {
    "collapsed": false,
    "pycharm": {
     "name": "#%%\n"
    }
   }
  },
  {
   "cell_type": "code",
   "execution_count": null,
   "outputs": [],
   "source": [],
   "metadata": {
    "collapsed": false,
    "pycharm": {
     "name": "#%%\n"
    }
   }
  }
 ],
 "metadata": {
  "kernelspec": {
   "display_name": "Python 3",
   "language": "python",
   "name": "python3"
  },
  "language_info": {
   "codemirror_mode": {
    "name": "ipython",
    "version": 2
   },
   "file_extension": ".py",
   "mimetype": "text/x-python",
   "name": "python",
   "nbconvert_exporter": "python",
   "pygments_lexer": "ipython2",
   "version": "2.7.6"
  }
 },
 "nbformat": 4,
 "nbformat_minor": 0
}