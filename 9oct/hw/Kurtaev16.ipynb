{
 "cells": [
  {
   "cell_type": "code",
   "execution_count": 131,
   "metadata": {
    "collapsed": true
   },
   "outputs": [],
   "source": [
    "import numpy as np\n",
    "import pandas as pd\n",
    "import statsmodels.api as smmy\n",
    "import statsmodels.stats.api as sms\n",
    "# import statsmodels.formula.api as sm\n",
    "from statsmodels.compat import lzip\n",
    "from sklearn.linear_model import LinearRegression\n",
    "import matplotlib.pyplot as plt\n",
    "from sklearn import svm\n",
    "import sklearn\n",
    "import statsmodels.api as sm\n",
    "import scipy.stats as t\n",
    "import statsmodels.stats as smd"
   ]
  },
  {
   "cell_type": "code",
   "execution_count": 3,
   "outputs": [
    {
     "data": {
      "text/plain": "              y          x1         x2         x3\n1    226.558057  226.366979  35.670145  43.361373\n2    225.100041  225.101691  35.320356  45.388946\n3    225.249491  226.311069  35.588059  45.081189\n4    224.955973  225.291101  34.786262  43.859751\n5    225.056030  225.545709  35.925103  45.819399\n..          ...         ...        ...        ...\n296  225.555566  225.639576  35.151905  45.143516\n297  225.334090  224.923959  35.277212  43.010435\n298  225.685783  225.024892  34.696320  44.694494\n299  225.203325  226.340226  35.351673  45.256006\n300  223.301898  224.906500  34.967948  46.343488\n\n[300 rows x 4 columns]",
      "text/html": "<div>\n<style scoped>\n    .dataframe tbody tr th:only-of-type {\n        vertical-align: middle;\n    }\n\n    .dataframe tbody tr th {\n        vertical-align: top;\n    }\n\n    .dataframe thead th {\n        text-align: right;\n    }\n</style>\n<table border=\"1\" class=\"dataframe\">\n  <thead>\n    <tr style=\"text-align: right;\">\n      <th></th>\n      <th>y</th>\n      <th>x1</th>\n      <th>x2</th>\n      <th>x3</th>\n    </tr>\n  </thead>\n  <tbody>\n    <tr>\n      <th>1</th>\n      <td>226.558057</td>\n      <td>226.366979</td>\n      <td>35.670145</td>\n      <td>43.361373</td>\n    </tr>\n    <tr>\n      <th>2</th>\n      <td>225.100041</td>\n      <td>225.101691</td>\n      <td>35.320356</td>\n      <td>45.388946</td>\n    </tr>\n    <tr>\n      <th>3</th>\n      <td>225.249491</td>\n      <td>226.311069</td>\n      <td>35.588059</td>\n      <td>45.081189</td>\n    </tr>\n    <tr>\n      <th>4</th>\n      <td>224.955973</td>\n      <td>225.291101</td>\n      <td>34.786262</td>\n      <td>43.859751</td>\n    </tr>\n    <tr>\n      <th>5</th>\n      <td>225.056030</td>\n      <td>225.545709</td>\n      <td>35.925103</td>\n      <td>45.819399</td>\n    </tr>\n    <tr>\n      <th>...</th>\n      <td>...</td>\n      <td>...</td>\n      <td>...</td>\n      <td>...</td>\n    </tr>\n    <tr>\n      <th>296</th>\n      <td>225.555566</td>\n      <td>225.639576</td>\n      <td>35.151905</td>\n      <td>45.143516</td>\n    </tr>\n    <tr>\n      <th>297</th>\n      <td>225.334090</td>\n      <td>224.923959</td>\n      <td>35.277212</td>\n      <td>43.010435</td>\n    </tr>\n    <tr>\n      <th>298</th>\n      <td>225.685783</td>\n      <td>225.024892</td>\n      <td>34.696320</td>\n      <td>44.694494</td>\n    </tr>\n    <tr>\n      <th>299</th>\n      <td>225.203325</td>\n      <td>226.340226</td>\n      <td>35.351673</td>\n      <td>45.256006</td>\n    </tr>\n    <tr>\n      <th>300</th>\n      <td>223.301898</td>\n      <td>224.906500</td>\n      <td>34.967948</td>\n      <td>46.343488</td>\n    </tr>\n  </tbody>\n</table>\n<p>300 rows × 4 columns</p>\n</div>"
     },
     "execution_count": 3,
     "metadata": {},
     "output_type": "execute_result"
    }
   ],
   "source": [
    "df = pd.read_table('Kurtaev.txt')\n",
    "df"
   ],
   "metadata": {
    "collapsed": false,
    "pycharm": {
     "name": "#%%\n"
    }
   }
  },
  {
   "cell_type": "code",
   "execution_count": 4,
   "outputs": [
    {
     "data": {
      "text/plain": "           y        x1        x2        x3\ny   1.000000  0.808021  0.422568 -0.586762\nx1  0.808021  1.000000  0.676251 -0.376994\nx2  0.422568  0.676251  1.000000 -0.081145\nx3 -0.586762 -0.376994 -0.081145  1.000000",
      "text/html": "<div>\n<style scoped>\n    .dataframe tbody tr th:only-of-type {\n        vertical-align: middle;\n    }\n\n    .dataframe tbody tr th {\n        vertical-align: top;\n    }\n\n    .dataframe thead th {\n        text-align: right;\n    }\n</style>\n<table border=\"1\" class=\"dataframe\">\n  <thead>\n    <tr style=\"text-align: right;\">\n      <th></th>\n      <th>y</th>\n      <th>x1</th>\n      <th>x2</th>\n      <th>x3</th>\n    </tr>\n  </thead>\n  <tbody>\n    <tr>\n      <th>y</th>\n      <td>1.000000</td>\n      <td>0.808021</td>\n      <td>0.422568</td>\n      <td>-0.586762</td>\n    </tr>\n    <tr>\n      <th>x1</th>\n      <td>0.808021</td>\n      <td>1.000000</td>\n      <td>0.676251</td>\n      <td>-0.376994</td>\n    </tr>\n    <tr>\n      <th>x2</th>\n      <td>0.422568</td>\n      <td>0.676251</td>\n      <td>1.000000</td>\n      <td>-0.081145</td>\n    </tr>\n    <tr>\n      <th>x3</th>\n      <td>-0.586762</td>\n      <td>-0.376994</td>\n      <td>-0.081145</td>\n      <td>1.000000</td>\n    </tr>\n  </tbody>\n</table>\n</div>"
     },
     "execution_count": 4,
     "metadata": {},
     "output_type": "execute_result"
    }
   ],
   "source": [
    "corr_matrix = df.corr()\n",
    "corr_matrix"
   ],
   "metadata": {
    "collapsed": false,
    "pycharm": {
     "name": "#%%\n"
    }
   }
  },
  {
   "cell_type": "code",
   "execution_count": 35,
   "outputs": [],
   "source": [
    "y = df['y']\n",
    "y_raw = np.array(y)\n",
    "y = np.array(y).reshape((-1, 1))\n",
    "x1 = np.array(df['x1'])\n",
    "x2 = np.array(df['x2'])\n",
    "x3 = np.array(df['x3'])"
   ],
   "metadata": {
    "collapsed": false,
    "pycharm": {
     "name": "#%%\n"
    }
   }
  },
  {
   "cell_type": "code",
   "execution_count": 7,
   "outputs": [
    {
     "data": {
      "text/plain": "LinearRegression()"
     },
     "execution_count": 7,
     "metadata": {},
     "output_type": "execute_result"
    }
   ],
   "source": [
    "# model_many = LinearRegression()\n",
    "# model_par = LinearRegression()\n",
    "# model_par.fit(y_arr, x1)\n"
   ],
   "metadata": {
    "collapsed": false,
    "pycharm": {
     "name": "#%%\n"
    }
   }
  },
  {
   "cell_type": "code",
   "execution_count": 12,
   "outputs": [
    {
     "data": {
      "text/plain": "<Figure size 720x432 with 1 Axes>",
      "image/png": "[encoded data removed]"
     },
     "metadata": {
      "needs_background": "light"
     },
     "output_type": "display_data"
    }
   ],
   "source": [
    "fig, ax = plt.subplots(figsize=(10, 6))\n",
    "ax.scatter(x = df['x1'], y = df['y'])\n",
    "plt.xlabel(\"x1\")\n",
    "plt.ylabel(\"y\")\n",
    "\n",
    "plt.show()"
   ],
   "metadata": {
    "collapsed": false,
    "pycharm": {
     "name": "#%%\n"
    }
   }
  },
  {
   "cell_type": "code",
   "execution_count": 13,
   "outputs": [
    {
     "data": {
      "text/plain": "<Figure size 720x432 with 1 Axes>",
      "image/png": "[encoded data removed]"
     },
     "metadata": {
      "needs_background": "light"
     },
     "output_type": "display_data"
    }
   ],
   "source": [
    "\n",
    "fig, ax = plt.subplots(figsize=(10, 6))\n",
    "ax.scatter(x = df['x2'], y = df['y'])\n",
    "plt.xlabel(\"x2\")\n",
    "plt.ylabel(\"y\")\n",
    "\n",
    "plt.show()"
   ],
   "metadata": {
    "collapsed": false,
    "pycharm": {
     "name": "#%%\n"
    }
   }
  },
  {
   "cell_type": "code",
   "execution_count": 14,
   "outputs": [
    {
     "data": {
      "text/plain": "<Figure size 720x432 with 1 Axes>",
      "image/png": "[encoded data removed]"
     },
     "metadata": {
      "needs_background": "light"
     },
     "output_type": "display_data"
    }
   ],
   "source": [
    "\n",
    "fig, ax = plt.subplots(figsize=(10, 6))\n",
    "ax.scatter(x = df['x3'], y = df['y'])\n",
    "plt.xlabel(\"x3\")\n",
    "plt.ylabel(\"y\")\n",
    "\n",
    "plt.show()"
   ],
   "metadata": {
    "collapsed": false,
    "pycharm": {
     "name": "#%%\n"
    }
   }
  },
  {
   "cell_type": "code",
   "execution_count": 96,
   "outputs": [
    {
     "data": {
      "text/plain": "array([[226.36697851,  35.67014484,  43.36137331],\n       [225.10169094,  35.32035589,  45.38894579],\n       [226.31106899,  35.58805935,  45.08118924],\n       [225.29110134,  34.78626237,  43.85975085],\n       [225.54570948,  35.92510311,  45.81939887],\n       [225.010124  ,  35.11266199,  46.49703959],\n       [224.32052261,  34.00771616,  45.54778021],\n       [224.84917394,  34.84700643,  45.41138912],\n       [224.36887378,  34.94285384,  44.28764113],\n       [225.02510645,  35.52021223,  44.04855528],\n       [224.99690067,  35.03665497,  44.76451708],\n       [227.07865341,  36.39440773,  43.65645495],\n       [225.06919303,  34.10698757,  43.96754789],\n       [226.19719188,  36.56338506,  45.87855609],\n       [225.21852712,  36.17626872,  43.98998566],\n       [223.57647339,  34.95907476,  48.12139949],\n       [225.26430208,  35.55742171,  46.09003477],\n       [223.35342269,  33.7666284 ,  44.3378838 ],\n       [224.10281517,  35.54920527,  44.98335254],\n       [227.00080046,  35.9632853 ,  43.35945906]])"
     },
     "execution_count": 96,
     "metadata": {},
     "output_type": "execute_result"
    }
   ],
   "source": [
    "from pprint import pp\n",
    "# x1_x3 = ([[i, j] for i in x1 for j in x3])\n",
    "x1_x3 = np.column_stack([x1, x3])\n",
    "x1_x2_x3 = np.column_stack([x1, x2, x3])\n",
    "x1_x2_x3[:20]\n"
   ],
   "metadata": {
    "collapsed": false,
    "pycharm": {
     "name": "#%%\n"
    }
   }
  },
  {
   "cell_type": "code",
   "execution_count": 97,
   "outputs": [
    {
     "data": {
      "text/plain": "0.7544562694579877"
     },
     "execution_count": 97,
     "metadata": {},
     "output_type": "execute_result"
    }
   ],
   "source": [
    "plural_model = LinearRegression()\n",
    "plural_model.fit(x1_x2_x3, y_raw)\n",
    "r_squared_plural = plural_model.score(x1_x2_x3, y_raw)\n",
    "r_squared_plural"
   ],
   "metadata": {
    "collapsed": false,
    "pycharm": {
     "name": "#%%\n"
    }
   }
  },
  {
   "cell_type": "code",
   "execution_count": 98,
   "outputs": [
    {
     "data": {
      "text/plain": "0.6528976580638981"
     },
     "execution_count": 98,
     "metadata": {},
     "output_type": "execute_result"
    }
   ],
   "source": [
    "twin_model = LinearRegression().fit(y, x1)\n",
    "r_squared_twin = twin_model.score(y, x1)\n",
    "r_squared_twin\n"
   ],
   "metadata": {
    "collapsed": false,
    "pycharm": {
     "name": "#%%\n"
    }
   }
  },
  {
   "cell_type": "code",
   "execution_count": 104,
   "outputs": [
    {
     "name": "stdout",
     "output_type": "stream",
     "text": [
      "PLURAL MODEL: ŷ = 64.46206181427075 + 0.795924029883144x₁ᵢ + -0.30009966401113064x₂ᵢ + -0.1448665484542092x₃ᵢ\n",
      "TWIN MODEL: ŷ = 46.18565345414265 + 0.7948511379648011x₁ᵢ\n"
     ]
    }
   ],
   "source": [
    "print(f\"PLURAL MODEL: \\u0177 = {plural_model.intercept_} + {plural_model.coef_[0]}x\\u2081\\u1D62 + {plural_model.coef_[2]}x\\u2082\\u1D62 + {plural_model.coef_[1]}x\\u2083\\u1D62\")\n",
    "print(f\"TWIN MODEL: \\u0177 = {twin_model.intercept_} + {twin_model.coef_[0]}x\\u2081\\u1D62\")"
   ],
   "metadata": {
    "collapsed": false,
    "pycharm": {
     "name": "#%%\n"
    }
   }
  },
  {
   "cell_type": "code",
   "execution_count": 112,
   "outputs": [],
   "source": [
    "x1_x2_x3_const = sm.add_constant(x1_x2_x3)\n",
    "x1_const = sm.add_constant(x1)\n",
    "\n",
    "est_twin = sm.OLS(y, x1_const)\n",
    "est_plural = sm.OLS(y, x1_x2_x3_const)"
   ],
   "metadata": {
    "collapsed": false,
    "pycharm": {
     "name": "#%%\n"
    }
   }
  },
  {
   "cell_type": "code",
   "execution_count": 113,
   "outputs": [
    {
     "name": "stdout",
     "output_type": "stream",
     "text": [
      "                            OLS Regression Results                            \n",
      "==============================================================================\n",
      "Dep. Variable:                      y   R-squared:                       0.653\n",
      "Model:                            OLS   Adj. R-squared:                  0.652\n",
      "Method:                 Least Squares   F-statistic:                     560.5\n",
      "Date:                Sat, 16 Oct 2021   Prob (F-statistic):           1.93e-70\n",
      "Time:                        01:32:48   Log-Likelihood:                -269.78\n",
      "No. Observations:                 300   AIC:                             543.6\n",
      "Df Residuals:                     298   BIC:                             551.0\n",
      "Df Model:                           1                                         \n",
      "Covariance Type:            nonrobust                                         \n",
      "==============================================================================\n",
      "                 coef    std err          t      P>|t|      [0.025      0.975]\n",
      "------------------------------------------------------------------------------\n",
      "const         40.1476      7.806      5.143      0.000      24.785      55.510\n",
      "x1             0.8214      0.035     23.676      0.000       0.753       0.890\n",
      "==============================================================================\n",
      "Omnibus:                        0.491   Durbin-Watson:                   1.832\n",
      "Prob(Omnibus):                  0.782   Jarque-Bera (JB):                0.501\n",
      "Skew:                          -0.097   Prob(JB):                        0.779\n",
      "Kurtosis:                       2.951   Cond. No.                     5.10e+04\n",
      "==============================================================================\n",
      "\n",
      "Notes:\n",
      "[1] Standard Errors assume that the covariance matrix of the errors is correctly specified.\n",
      "[2] The condition number is large, 5.1e+04. This might indicate that there are\n",
      "strong multicollinearity or other numerical problems.\n"
     ]
    }
   ],
   "source": [
    "print(est_twin.fit().summary())"
   ],
   "metadata": {
    "collapsed": false,
    "pycharm": {
     "name": "#%%\n"
    }
   }
  },
  {
   "cell_type": "code",
   "execution_count": 114,
   "outputs": [
    {
     "name": "stdout",
     "output_type": "stream",
     "text": [
      "                            OLS Regression Results                            \n",
      "==============================================================================\n",
      "Dep. Variable:                      y   R-squared:                       0.754\n",
      "Model:                            OLS   Adj. R-squared:                  0.752\n",
      "Method:                 Least Squares   F-statistic:                     303.2\n",
      "Date:                Sat, 16 Oct 2021   Prob (F-statistic):           6.56e-90\n",
      "Time:                        01:33:04   Log-Likelihood:                -217.86\n",
      "No. Observations:                 300   AIC:                             443.7\n",
      "Df Residuals:                     296   BIC:                             458.5\n",
      "Df Model:                           3                                         \n",
      "Covariance Type:            nonrobust                                         \n",
      "==============================================================================\n",
      "                 coef    std err          t      P>|t|      [0.025      0.975]\n",
      "------------------------------------------------------------------------------\n",
      "const         64.4621      9.654      6.677      0.000      45.462      83.462\n",
      "x1             0.7959      0.044     17.996      0.000       0.709       0.883\n",
      "x2            -0.1449      0.045     -3.251      0.001      -0.233      -0.057\n",
      "x3            -0.3001      0.032     -9.400      0.000      -0.363      -0.237\n",
      "==============================================================================\n",
      "Omnibus:                        2.856   Durbin-Watson:                   1.734\n",
      "Prob(Omnibus):                  0.240   Jarque-Bera (JB):                2.567\n",
      "Skew:                          -0.174   Prob(JB):                        0.277\n",
      "Kurtosis:                       3.289   Cond. No.                     7.71e+04\n",
      "==============================================================================\n",
      "\n",
      "Notes:\n",
      "[1] Standard Errors assume that the covariance matrix of the errors is correctly specified.\n",
      "[2] The condition number is large, 7.71e+04. This might indicate that there are\n",
      "strong multicollinearity or other numerical problems.\n"
     ]
    }
   ],
   "source": [
    "print(est_plural.fit().summary())\n"
   ],
   "metadata": {
    "collapsed": false,
    "pycharm": {
     "name": "#%%\n"
    }
   }
  },
  {
   "cell_type": "code",
   "execution_count": 124,
   "outputs": [
    {
     "name": "stdout",
     "output_type": "stream",
     "text": [
      "Ttest_indResult(statistic=-0.42640964791337305, pvalue=0.6699628237359341)\n",
      "Ttest_indResult(statistic=2409.713058417925, pvalue=0.0)\n",
      "Ttest_indResult(statistic=2171.9251089036534, pvalue=0.0)\n"
     ]
    }
   ],
   "source": [
    "print(t.ttest_ind(df[\"y\"], df[\"x1\"]))\n",
    "print(t.ttest_ind(df[\"y\"], df[\"x2\"]))\n",
    "print(t.ttest_ind(df[\"y\"], df[\"x3\"]))"
   ],
   "metadata": {
    "collapsed": false,
    "pycharm": {
     "name": "#%%\n"
    }
   }
  },
  {
   "cell_type": "code",
   "execution_count": 128,
   "outputs": [
    {
     "data": {
      "text/plain": "<class 'statsmodels.iolib.summary.Summary'>\n\"\"\"\n                            OLS Regression Results                            \n==============================================================================\nDep. Variable:                      y   R-squared:                       0.754\nModel:                            OLS   Adj. R-squared:                  0.752\nMethod:                 Least Squares   F-statistic:                     303.2\nDate:                Sat, 16 Oct 2021   Prob (F-statistic):           6.56e-90\nTime:                        02:10:41   Log-Likelihood:                -217.86\nNo. Observations:                 300   AIC:                             443.7\nDf Residuals:                     296   BIC:                             458.5\nDf Model:                           3                                         \nCovariance Type:            nonrobust                                         \n==============================================================================\n                 coef    std err          t      P>|t|      [0.025      0.975]\n------------------------------------------------------------------------------\nconst         64.4621      9.654      6.677      0.000      45.462      83.462\nx1             0.7959      0.044     17.996      0.000       0.709       0.883\nx2            -0.1449      0.045     -3.251      0.001      -0.233      -0.057\nx3            -0.3001      0.032     -9.400      0.000      -0.363      -0.237\n==============================================================================\nOmnibus:                        2.856   Durbin-Watson:                   1.734\nProb(Omnibus):                  0.240   Jarque-Bera (JB):                2.567\nSkew:                          -0.174   Prob(JB):                        0.277\nKurtosis:                       3.289   Cond. No.                     7.71e+04\n==============================================================================\n\nNotes:\n[1] Standard Errors assume that the covariance matrix of the errors is correctly specified.\n[2] The condition number is large, 7.71e+04. This might indicate that there are\nstrong multicollinearity or other numerical problems.\n\"\"\"",
      "text/html": "<table class=\"simpletable\">\n<caption>OLS Regression Results</caption>\n<tr>\n  <th>Dep. Variable:</th>            <td>y</td>        <th>  R-squared:         </th> <td>   0.754</td>\n</tr>\n<tr>\n  <th>Model:</th>                   <td>OLS</td>       <th>  Adj. R-squared:    </th> <td>   0.752</td>\n</tr>\n<tr>\n  <th>Method:</th>             <td>Least Squares</td>  <th>  F-statistic:       </th> <td>   303.2</td>\n</tr>\n<tr>\n  <th>Date:</th>             <td>Sat, 16 Oct 2021</td> <th>  Prob (F-statistic):</th> <td>6.56e-90</td>\n</tr>\n<tr>\n  <th>Time:</th>                 <td>02:10:41</td>     <th>  Log-Likelihood:    </th> <td> -217.86</td>\n</tr>\n<tr>\n  <th>No. Observations:</th>      <td>   300</td>      <th>  AIC:               </th> <td>   443.7</td>\n</tr>\n<tr>\n  <th>Df Residuals:</th>          <td>   296</td>      <th>  BIC:               </th> <td>   458.5</td>\n</tr>\n<tr>\n  <th>Df Model:</th>              <td>     3</td>      <th>                     </th>     <td> </td>   \n</tr>\n<tr>\n  <th>Covariance Type:</th>      <td>nonrobust</td>    <th>                     </th>     <td> </td>   \n</tr>\n</table>\n<table class=\"simpletable\">\n<tr>\n    <td></td>       <th>coef</th>     <th>std err</th>      <th>t</th>      <th>P>|t|</th>  <th>[0.025</th>    <th>0.975]</th>  \n</tr>\n<tr>\n  <th>const</th> <td>   64.4621</td> <td>    9.654</td> <td>    6.677</td> <td> 0.000</td> <td>   45.462</td> <td>   83.462</td>\n</tr>\n<tr>\n  <th>x1</th>    <td>    0.7959</td> <td>    0.044</td> <td>   17.996</td> <td> 0.000</td> <td>    0.709</td> <td>    0.883</td>\n</tr>\n<tr>\n  <th>x2</th>    <td>   -0.1449</td> <td>    0.045</td> <td>   -3.251</td> <td> 0.001</td> <td>   -0.233</td> <td>   -0.057</td>\n</tr>\n<tr>\n  <th>x3</th>    <td>   -0.3001</td> <td>    0.032</td> <td>   -9.400</td> <td> 0.000</td> <td>   -0.363</td> <td>   -0.237</td>\n</tr>\n</table>\n<table class=\"simpletable\">\n<tr>\n  <th>Omnibus:</th>       <td> 2.856</td> <th>  Durbin-Watson:     </th> <td>   1.734</td>\n</tr>\n<tr>\n  <th>Prob(Omnibus):</th> <td> 0.240</td> <th>  Jarque-Bera (JB):  </th> <td>   2.567</td>\n</tr>\n<tr>\n  <th>Skew:</th>          <td>-0.174</td> <th>  Prob(JB):          </th> <td>   0.277</td>\n</tr>\n<tr>\n  <th>Kurtosis:</th>      <td> 3.289</td> <th>  Cond. No.          </th> <td>7.71e+04</td>\n</tr>\n</table><br/><br/>Notes:<br/>[1] Standard Errors assume that the covariance matrix of the errors is correctly specified.<br/>[2] The condition number is large, 7.71e+04. This might indicate that there are<br/>strong multicollinearity or other numerical problems."
     },
     "execution_count": 128,
     "metadata": {},
     "output_type": "execute_result"
    }
   ],
   "source": [
    "model = smmy.OLS(y, x1_x2_x3_const)\n",
    "results = model.fit()\n",
    "results.summary()\n"
   ],
   "metadata": {
    "collapsed": false,
    "pycharm": {
     "name": "#%%\n"
    }
   }
  },
  {
   "cell_type": "code",
   "execution_count": 129,
   "outputs": [
    {
     "data": {
      "text/plain": "array([226.45283526, 224.88796137, 225.90411079, 225.57500083,\n       225.02457993, 224.51263036, 224.40870215, 224.74881429,\n       224.68988316, 225.20030418, 225.0330459 , 226.82579905,\n       225.46443302, 225.43289167, 225.27678842, 222.90633319,\n       224.77264801, 224.03697915, 224.18149792, 226.9154176 ,\n       225.25671994, 223.98774116, 224.52909815, 225.19571088,\n       222.53956324, 224.05587199, 223.83699899, 225.71217041,\n       223.5238861 , 225.59837457, 223.50243054, 227.00558443,\n       224.66510294, 224.13108886, 225.66418392, 225.30839424,\n       223.6784924 , 226.58905496, 224.12836633, 226.13157766,\n       225.41777052, 225.12891928, 226.28085931, 224.3962665 ,\n       225.19766116, 225.69724253, 223.46004894, 224.04132507,\n       225.14510907, 225.05352636, 224.50864343, 224.91910718,\n       226.2954444 , 225.26847606, 225.23361354, 225.83866368,\n       226.1845319 , 224.78609293, 225.44734017, 226.20371113,\n       225.05371165, 225.7647463 , 224.23801686, 225.25510896,\n       223.51066377, 226.03898503, 225.51349381, 224.97392503,\n       225.01848822, 224.61715186, 224.61679452, 224.9770243 ,\n       224.96522531, 225.34060857, 224.94258862, 225.1632536 ,\n       223.96516452, 223.83614262, 225.52009251, 223.48894555,\n       225.10645887, 226.21502896, 224.40049638, 224.75910012,\n       224.30288256, 225.69402594, 223.76511185, 224.46696434,\n       225.30846052, 226.85362846, 225.93038518, 226.01689483,\n       223.14852316, 225.0075984 , 223.3807524 , 225.01395699,\n       223.34269195, 225.91848945, 225.83697268, 225.16020874,\n       225.00876616, 224.09255914, 225.98114802, 225.2823683 ,\n       224.27667277, 224.6106086 , 224.64034829, 225.24150328,\n       226.49538938, 224.41796155, 223.11733008, 225.44900072,\n       224.56669812, 223.79965637, 224.97272114, 223.4730336 ,\n       223.85477858, 225.29954627, 225.55791927, 225.05891466,\n       224.63700461, 224.46500051, 224.66299097, 223.64295056,\n       224.079572  , 224.33773442, 223.50138156, 226.1481257 ,\n       225.50585176, 223.60961199, 225.4151052 , 224.17711989,\n       224.08181658, 226.00616902, 224.43288975, 224.14733749,\n       224.30407151, 224.96079615, 222.77409497, 226.08210806,\n       225.87792049, 225.12318514, 223.5288774 , 224.93169444,\n       225.31407405, 225.4409548 , 224.0143064 , 226.3463875 ,\n       224.22841164, 224.61069039, 224.33568888, 224.88969349,\n       225.66121975, 225.37491739, 225.73550611, 225.89511727,\n       225.13999555, 223.34959982, 225.0856067 , 225.60129372,\n       224.66341535, 225.08937061, 223.46364727, 224.64127611,\n       225.11572313, 225.56018774, 224.7663782 , 225.95600291,\n       226.51564653, 225.46448003, 224.76930259, 225.73808702,\n       224.59155577, 224.32676922, 225.45433036, 224.24459745,\n       224.96991802, 225.02102137, 225.44499572, 225.58411197,\n       226.01447764, 225.58777891, 225.23510373, 225.11793684,\n       225.69909694, 224.25212648, 223.54240418, 226.0652785 ,\n       224.14610483, 226.15113492, 226.27610255, 225.67751139,\n       225.08224368, 225.57217196, 224.43676615, 225.26771171,\n       223.93458926, 224.59701161, 225.13839898, 225.26848529,\n       226.12488692, 225.26559167, 225.64157783, 225.01875544,\n       224.49472562, 226.20272861, 223.59056212, 224.58538702,\n       224.89457624, 224.35084003, 224.95045081, 225.00016461,\n       225.59559121, 224.77884505, 224.92777737, 225.05518704,\n       225.02400057, 223.8982167 , 227.10575038, 226.38847406,\n       225.41371775, 225.19379298, 223.45363024, 225.81645099,\n       223.32830105, 225.40922173, 224.7632545 , 224.74700398,\n       225.68714333, 225.51576591, 226.20836124, 223.66375935,\n       224.28764348, 225.28806389, 225.65480623, 224.64407357,\n       224.78971255, 225.21762081, 224.52619016, 224.75186576,\n       224.86502157, 224.86727254, 224.86996717, 225.69241455,\n       225.60707701, 226.39468035, 224.95563154, 224.89430983,\n       224.25882127, 224.71509893, 224.84530467, 223.59639664,\n       225.18962512, 225.39537318, 224.80445798, 225.14709235,\n       223.69214339, 224.30922087, 226.45230954, 225.27836849,\n       225.27719555, 225.18980004, 223.50321879, 224.47968921,\n       224.09979315, 226.75006866, 226.8808349 , 225.07056408,\n       225.50359342, 225.24950099, 225.29953167, 226.03385033,\n       222.88730805, 222.63839362, 225.08291147, 226.94704284,\n       224.50601333, 224.05393572, 224.70187331, 224.58133875,\n       225.11653177, 225.21624352, 224.16849876, 223.74075146,\n       225.32363251, 225.28718627, 224.4712097 , 224.48909634,\n       227.46011741, 225.08104506, 223.42835242, 224.63119645,\n       225.39447035, 224.39949484, 224.89174091, 225.41413327,\n       225.46654086, 225.12564194, 225.9090995 , 224.49719838])"
     },
     "execution_count": 129,
     "metadata": {},
     "output_type": "execute_result"
    }
   ],
   "source": [
    "predictions = results.predict(x1_x2_x3_const)\n",
    "predictions"
   ],
   "metadata": {
    "collapsed": false,
    "pycharm": {
     "name": "#%%\n"
    }
   }
  },
  {
   "cell_type": "code",
   "execution_count": 130,
   "outputs": [],
   "source": [
    "residuals = results.resid\n"
   ],
   "metadata": {
    "collapsed": false,
    "pycharm": {
     "name": "#%%\n"
    }
   }
  },
  {
   "cell_type": "code",
   "execution_count": 132,
   "outputs": [
    {
     "data": {
      "text/plain": "1.7340490161488171"
     },
     "execution_count": 132,
     "metadata": {},
     "output_type": "execute_result"
    }
   ],
   "source": [
    "#DWtest\n",
    "dw = smd.stattools.durbin_watson(residuals)\n",
    "dw"
   ],
   "metadata": {
    "collapsed": false,
    "pycharm": {
     "name": "#%%\n"
    }
   }
  },
  {
   "cell_type": "code",
   "execution_count": 133,
   "outputs": [
    {
     "name": "stderr",
     "output_type": "stream",
     "text": [
      "D:\\Programming\\Python\\Econometric\\venv\\lib\\site-packages\\statsmodels\\stats\\diagnostic.py:826: FutureWarning: The default value of nlags is changing.  After 0.12, this value will become min(10, nobs//5). Directly setnlags or period to silence this warning.\n",
      "  warnings.warn(\"The default value of nlags is changing.  After 0.12, \"\n"
     ]
    },
    {
     "data": {
      "text/plain": "(14.81149109308607,\n 0.46507924835191805,\n 0.9729305043670057,\n 0.48401535885885705)"
     },
     "execution_count": 133,
     "metadata": {},
     "output_type": "execute_result"
    }
   ],
   "source": [
    "#BGtest\n",
    "smd.diagnostic.acorr_breusch_godfrey(results)"
   ],
   "metadata": {
    "collapsed": false,
    "pycharm": {
     "name": "#%%\n"
    }
   }
  },
  {
   "cell_type": "code",
   "execution_count": 134,
   "outputs": [
    {
     "data": {
      "text/plain": "(0.7382231555589357, 0.9661524698058566, 'increasing')"
     },
     "execution_count": 134,
     "metadata": {},
     "output_type": "execute_result"
    }
   ],
   "source": [
    "#GQtest\n",
    "gq = sms.het_goldfeldquandt(residuals,results.model.exog)\n",
    "gq"
   ],
   "metadata": {
    "collapsed": false,
    "pycharm": {
     "name": "#%%\n"
    }
   }
  },
  {
   "cell_type": "code",
   "execution_count": 135,
   "outputs": [
    {
     "data": {
      "text/plain": "[('BP', 1.3255730364810536), ('p-value', 0.7230696488689703)]"
     },
     "execution_count": 135,
     "metadata": {},
     "output_type": "execute_result"
    }
   ],
   "source": [
    "#BPtest\n",
    "name=['BP','p-value']\n",
    "bp=sms.het_breuschpagan(residuals,results.model.exog)\n",
    "lzip(name,bp)"
   ],
   "metadata": {
    "collapsed": false,
    "pycharm": {
     "name": "#%%\n"
    }
   }
  },
  {
   "cell_type": "code",
   "execution_count": null,
   "outputs": [],
   "source": [],
   "metadata": {
    "collapsed": false,
    "pycharm": {
     "name": "#%%\n"
    }
   }
  },
  {
   "cell_type": "code",
   "execution_count": null,
   "outputs": [],
   "source": [],
   "metadata": {
    "collapsed": false,
    "pycharm": {
     "name": "#%%\n"
    }
   }
  }
 ],
 "metadata": {
  "kernelspec": {
   "display_name": "Python 3",
   "language": "python",
   "name": "python3"
  },
  "language_info": {
   "codemirror_mode": {
    "name": "ipython",
    "version": 2
   },
   "file_extension": ".py",
   "mimetype": "text/x-python",
   "name": "python",
   "nbconvert_exporter": "python",
   "pygments_lexer": "ipython2",
   "version": "2.7.6"
  }
 },
 "nbformat": 4,
 "nbformat_minor": 0
}