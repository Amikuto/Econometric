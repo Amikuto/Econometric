{
 "cells": [
  {
   "cell_type": "code",
   "execution_count": 29,
   "metadata": {
    "collapsed": true
   },
   "outputs": [],
   "source": [
    "import numpy as np\n",
    "import pandas as pd\n",
    "import statsmodels.api as smmy\n",
    "import statsmodels.stats.api as sms\n",
    "import statsmodels.formula.api as sm\n",
    "import statsmodels.stats as smd\n",
    "from statsmodels.compat import lzip\n",
    "from sklearn.linear_model import LinearRegression\n",
    "import matplotlib.pyplot as plt"
   ]
  },
  {
   "cell_type": "code",
   "execution_count": 17,
   "outputs": [
    {
     "data": {
      "text/plain": "              y          x1         x2         x3\n1    226.558057  226.366979  35.670145  43.361373\n2    225.100041  225.101691  35.320356  45.388946\n3    225.249491  226.311069  35.588059  45.081189\n4    224.955973  225.291101  34.786262  43.859751\n5    225.056030  225.545709  35.925103  45.819399\n..          ...         ...        ...        ...\n296  225.555566  225.639576  35.151905  45.143516\n297  225.334090  224.923959  35.277212  43.010435\n298  225.685783  225.024892  34.696320  44.694494\n299  225.203325  226.340226  35.351673  45.256006\n300  223.301898  224.906500  34.967948  46.343488\n\n[300 rows x 4 columns]",
      "text/html": "<div>\n<style scoped>\n    .dataframe tbody tr th:only-of-type {\n        vertical-align: middle;\n    }\n\n    .dataframe tbody tr th {\n        vertical-align: top;\n    }\n\n    .dataframe thead th {\n        text-align: right;\n    }\n</style>\n<table border=\"1\" class=\"dataframe\">\n  <thead>\n    <tr style=\"text-align: right;\">\n      <th></th>\n      <th>y</th>\n      <th>x1</th>\n      <th>x2</th>\n      <th>x3</th>\n    </tr>\n  </thead>\n  <tbody>\n    <tr>\n      <th>1</th>\n      <td>226.558057</td>\n      <td>226.366979</td>\n      <td>35.670145</td>\n      <td>43.361373</td>\n    </tr>\n    <tr>\n      <th>2</th>\n      <td>225.100041</td>\n      <td>225.101691</td>\n      <td>35.320356</td>\n      <td>45.388946</td>\n    </tr>\n    <tr>\n      <th>3</th>\n      <td>225.249491</td>\n      <td>226.311069</td>\n      <td>35.588059</td>\n      <td>45.081189</td>\n    </tr>\n    <tr>\n      <th>4</th>\n      <td>224.955973</td>\n      <td>225.291101</td>\n      <td>34.786262</td>\n      <td>43.859751</td>\n    </tr>\n    <tr>\n      <th>5</th>\n      <td>225.056030</td>\n      <td>225.545709</td>\n      <td>35.925103</td>\n      <td>45.819399</td>\n    </tr>\n    <tr>\n      <th>...</th>\n      <td>...</td>\n      <td>...</td>\n      <td>...</td>\n      <td>...</td>\n    </tr>\n    <tr>\n      <th>296</th>\n      <td>225.555566</td>\n      <td>225.639576</td>\n      <td>35.151905</td>\n      <td>45.143516</td>\n    </tr>\n    <tr>\n      <th>297</th>\n      <td>225.334090</td>\n      <td>224.923959</td>\n      <td>35.277212</td>\n      <td>43.010435</td>\n    </tr>\n    <tr>\n      <th>298</th>\n      <td>225.685783</td>\n      <td>225.024892</td>\n      <td>34.696320</td>\n      <td>44.694494</td>\n    </tr>\n    <tr>\n      <th>299</th>\n      <td>225.203325</td>\n      <td>226.340226</td>\n      <td>35.351673</td>\n      <td>45.256006</td>\n    </tr>\n    <tr>\n      <th>300</th>\n      <td>223.301898</td>\n      <td>224.906500</td>\n      <td>34.967948</td>\n      <td>46.343488</td>\n    </tr>\n  </tbody>\n</table>\n<p>300 rows × 4 columns</p>\n</div>"
     },
     "execution_count": 17,
     "metadata": {},
     "output_type": "execute_result"
    }
   ],
   "source": [
    "import os\n",
    "# os.getcwd()\n",
    "df = pd.read_table('Kurtaev.txt')\n",
    "df"
   ],
   "metadata": {
    "collapsed": false,
    "pycharm": {
     "name": "#%%\n"
    }
   }
  },
  {
   "cell_type": "code",
   "execution_count": 19,
   "outputs": [
    {
     "data": {
      "text/plain": "           y        x1        x2        x3\ny   1.000000  0.808021  0.422568 -0.586762\nx1  0.808021  1.000000  0.676251 -0.376994\nx2  0.422568  0.676251  1.000000 -0.081145\nx3 -0.586762 -0.376994 -0.081145  1.000000",
      "text/html": "<div>\n<style scoped>\n    .dataframe tbody tr th:only-of-type {\n        vertical-align: middle;\n    }\n\n    .dataframe tbody tr th {\n        vertical-align: top;\n    }\n\n    .dataframe thead th {\n        text-align: right;\n    }\n</style>\n<table border=\"1\" class=\"dataframe\">\n  <thead>\n    <tr style=\"text-align: right;\">\n      <th></th>\n      <th>y</th>\n      <th>x1</th>\n      <th>x2</th>\n      <th>x3</th>\n    </tr>\n  </thead>\n  <tbody>\n    <tr>\n      <th>y</th>\n      <td>1.000000</td>\n      <td>0.808021</td>\n      <td>0.422568</td>\n      <td>-0.586762</td>\n    </tr>\n    <tr>\n      <th>x1</th>\n      <td>0.808021</td>\n      <td>1.000000</td>\n      <td>0.676251</td>\n      <td>-0.376994</td>\n    </tr>\n    <tr>\n      <th>x2</th>\n      <td>0.422568</td>\n      <td>0.676251</td>\n      <td>1.000000</td>\n      <td>-0.081145</td>\n    </tr>\n    <tr>\n      <th>x3</th>\n      <td>-0.586762</td>\n      <td>-0.376994</td>\n      <td>-0.081145</td>\n      <td>1.000000</td>\n    </tr>\n  </tbody>\n</table>\n</div>"
     },
     "execution_count": 19,
     "metadata": {},
     "output_type": "execute_result"
    }
   ],
   "source": [
    "corr_matrix = df.corr()\n",
    "corr_matrix"
   ],
   "metadata": {
    "collapsed": false,
    "pycharm": {
     "name": "#%%\n"
    }
   }
  },
  {
   "cell_type": "code",
   "execution_count": 24,
   "outputs": [],
   "source": [
    "y = df['y']\n",
    "y_arr = np.array(y).reshape((-1, 1))\n",
    "x1 = df['x1']\n",
    "x2 = df['x2']\n",
    "x3 = df['x3']"
   ],
   "metadata": {
    "collapsed": false,
    "pycharm": {
     "name": "#%%\n"
    }
   }
  },
  {
   "cell_type": "code",
   "execution_count": 25,
   "outputs": [
    {
     "data": {
      "text/plain": "LinearRegression()"
     },
     "execution_count": 25,
     "metadata": {},
     "output_type": "execute_result"
    }
   ],
   "source": [
    "model_many = LinearRegression()\n",
    "model_par = LinearRegression()\n",
    "model_par.fit(y_arr, x1)\n"
   ],
   "metadata": {
    "collapsed": false,
    "pycharm": {
     "name": "#%%\n"
    }
   }
  },
  {
   "cell_type": "code",
   "execution_count": 28,
   "outputs": [
    {
     "name": "stdout",
     "output_type": "stream",
     "text": [
      "0.6528976580638981\n"
     ]
    }
   ],
   "source": [
    "print(model_par.score(y_arr, x1))"
   ],
   "metadata": {
    "collapsed": false,
    "pycharm": {
     "name": "#%%\n"
    }
   }
  },
  {
   "cell_type": "code",
   "execution_count": 32,
   "outputs": [
    {
     "data": {
      "text/plain": "<matplotlib.collections.PathCollection at 0x210f4b1ad30>"
     },
     "execution_count": 32,
     "metadata": {},
     "output_type": "execute_result"
    },
    {
     "data": {
      "text/plain": "<Figure size 432x288 with 2 Axes>",
      "image/png": "[encoded data removed]"
     },
     "metadata": {
      "needs_background": "light"
     },
     "output_type": "display_data"
    }
   ],
   "source": [
    "fig, ax = plt.subplots(2)\n",
    "# ax[1].scatter(x = df['Overall Qual'], y = df['SalePrice'])\n",
    "ax[1].scatter(x = df['x1'], y = df['y'])"
   ],
   "metadata": {
    "collapsed": false,
    "pycharm": {
     "name": "#%%\n"
    }
   }
  },
  {
   "cell_type": "code",
   "execution_count": null,
   "outputs": [],
   "source": [],
   "metadata": {
    "collapsed": false,
    "pycharm": {
     "name": "#%%\n"
    }
   }
  },
  {
   "cell_type": "code",
   "execution_count": null,
   "outputs": [],
   "source": [],
   "metadata": {
    "collapsed": false,
    "pycharm": {
     "name": "#%%\n"
    }
   }
  },
  {
   "cell_type": "code",
   "execution_count": null,
   "outputs": [],
   "source": [],
   "metadata": {
    "collapsed": false,
    "pycharm": {
     "name": "#%%\n"
    }
   }
  },
  {
   "cell_type": "code",
   "execution_count": null,
   "outputs": [],
   "source": [],
   "metadata": {
    "collapsed": false,
    "pycharm": {
     "name": "#%%\n"
    }
   }
  }
 ],
 "metadata": {
  "kernelspec": {
   "display_name": "Python 3",
   "language": "python",
   "name": "python3"
  },
  "language_info": {
   "codemirror_mode": {
    "name": "ipython",
    "version": 2
   },
   "file_extension": ".py",
   "mimetype": "text/x-python",
   "name": "python",
   "nbconvert_exporter": "python",
   "pygments_lexer": "ipython2",
   "version": "2.7.6"
  }
 },
 "nbformat": 4,
 "nbformat_minor": 0
}